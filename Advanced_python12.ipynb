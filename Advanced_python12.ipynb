{
 "cells": [
  {
   "cell_type": "markdown",
   "id": "067b968c",
   "metadata": {},
   "source": [
    "### Q1. Does assigning a value to a string&#39;s indexed character violate Python&#39;s string immutability?"
   ]
  },
  {
   "cell_type": "markdown",
   "id": "21069cfe",
   "metadata": {},
   "source": [
    "One final thing that makes strings different from some other Python collection types is that you are not allowed to modify the individual characters in the collection. It is tempting to use the [] operator on the left side of an assignment, with the intention of changing a character in a string. For example, in the following code, we would like to change the first letter of greeting."
   ]
  },
  {
   "cell_type": "code",
   "execution_count": 2,
   "id": "03b94333",
   "metadata": {},
   "outputs": [
    {
     "ename": "TypeError",
     "evalue": "'str' object does not support item assignment",
     "output_type": "error",
     "traceback": [
      "\u001b[1;31m---------------------------------------------------------------------------\u001b[0m",
      "\u001b[1;31mTypeError\u001b[0m                                 Traceback (most recent call last)",
      "\u001b[1;32m~\\AppData\\Local\\Temp\\ipykernel_8000\\2904356835.py\u001b[0m in \u001b[0;36m<module>\u001b[1;34m\u001b[0m\n\u001b[0;32m      1\u001b[0m \u001b[0mgreeting\u001b[0m \u001b[1;33m=\u001b[0m \u001b[1;34m\"Hello, world!\"\u001b[0m\u001b[1;33m\u001b[0m\u001b[1;33m\u001b[0m\u001b[0m\n\u001b[1;32m----> 2\u001b[1;33m \u001b[0mgreeting\u001b[0m\u001b[1;33m[\u001b[0m\u001b[1;36m0\u001b[0m\u001b[1;33m]\u001b[0m \u001b[1;33m=\u001b[0m \u001b[1;34m'J'\u001b[0m            \u001b[1;31m# ERROR!\u001b[0m\u001b[1;33m\u001b[0m\u001b[1;33m\u001b[0m\u001b[0m\n\u001b[0m\u001b[0;32m      3\u001b[0m \u001b[0mprint\u001b[0m\u001b[1;33m(\u001b[0m\u001b[0mgreeting\u001b[0m\u001b[1;33m)\u001b[0m\u001b[1;33m\u001b[0m\u001b[1;33m\u001b[0m\u001b[0m\n",
      "\u001b[1;31mTypeError\u001b[0m: 'str' object does not support item assignment"
     ]
    }
   ],
   "source": [
    "greeting = \"Hello, world!\"\n",
    "greeting[0] = 'J'            # ERROR!\n",
    "print(greeting)"
   ]
  },
  {
   "cell_type": "markdown",
   "id": "e105484a",
   "metadata": {},
   "source": [
    "nstead of producing the output Jello, world!, this code produces the runtime error TypeError: 'str' object does not support item assignment.\n",
    "\n",
    "Strings are immutable, which means you cannot change an existing string. The best you can do is create a new string that is a variation on the original."
   ]
  },
  {
   "cell_type": "code",
   "execution_count": 4,
   "id": "c16cfdab",
   "metadata": {},
   "outputs": [
    {
     "name": "stdout",
     "output_type": "stream",
     "text": [
      "Jello, world!\n",
      "Hello, world!\n"
     ]
    }
   ],
   "source": [
    "greeting = \"Hello, world!\"\n",
    "newGreeting = 'J' + greeting[1:]\n",
    "print(newGreeting)\n",
    "print(greeting)         "
   ]
  },
  {
   "cell_type": "markdown",
   "id": "e85ea868",
   "metadata": {},
   "source": [
    "The solution here is to concatenate a new first letter onto a slice of greeting. This operation has no effect on the original string."
   ]
  },
  {
   "cell_type": "code",
   "execution_count": null,
   "id": "cf532995",
   "metadata": {},
   "outputs": [],
   "source": []
  },
  {
   "cell_type": "markdown",
   "id": "6856773e",
   "metadata": {},
   "source": [
    "### Q2. Does using the += operator to concatenate strings violate Python&#39;s string immutability? Why or why not?"
   ]
  },
  {
   "cell_type": "markdown",
   "id": "99ae01ab",
   "metadata": {},
   "source": [
    "The easiest way of concatenating strings is to use the + or the += operator. The + operator is used both for adding numbers and strings; in programming we say that the operator is overloaded."
   ]
  },
  {
   "cell_type": "code",
   "execution_count": 7,
   "id": "fdbdbec5",
   "metadata": {},
   "outputs": [
    {
     "name": "stdout",
     "output_type": "stream",
     "text": [
      "old tree\n"
     ]
    }
   ],
   "source": [
    "a = 'old'\n",
    "b = ' tree'\n",
    "\n",
    "c = a + b\n",
    "print(c)"
   ]
  },
  {
   "cell_type": "markdown",
   "id": "a940940d",
   "metadata": {},
   "source": [
    "Two strings are added using the + operator.\n",
    "\n",
    "In the second example, we use the compound addition operator."
   ]
  },
  {
   "cell_type": "code",
   "execution_count": 9,
   "id": "53e038ff",
   "metadata": {},
   "outputs": [
    {
     "name": "stdout",
     "output_type": "stream",
     "text": [
      "There are three falcons in the sky\n"
     ]
    }
   ],
   "source": [
    "msg = 'There are'\n",
    "\n",
    "msg += ' three falcons'\n",
    "msg += ' in the sky'\n",
    "\n",
    "print(msg)"
   ]
  },
  {
   "cell_type": "markdown",
   "id": "03cb0511",
   "metadata": {},
   "source": [
    "The example builds a message with the += operator."
   ]
  },
  {
   "cell_type": "markdown",
   "id": "420db987",
   "metadata": {},
   "source": [
    "### Q3. In Python, how many different ways are there to index a character?"
   ]
  },
  {
   "cell_type": "markdown",
   "id": "9a9bc448",
   "metadata": {},
   "source": [
    "Indexing means referring to an element of an iterable by its position within the iterable. Each of a string’s characters corresponds to an index number and each character can be accessed using their index number.\n",
    "\n",
    "Accessing Characters by Positive Index Number Accessing Characters by Negative Index Number\n",
    "\n",
    "- 1. Accessing Characters by Positive Index Number:\n",
    "\n",
    "In this type of Indexing, we pass a Positive index(which we want to access) in square brackets. The index number start from index number 0 (which denotes the first character of a string)."
   ]
  },
  {
   "cell_type": "code",
   "execution_count": 11,
   "id": "ef53ba2f",
   "metadata": {},
   "outputs": [
    {
     "name": "stdout",
     "output_type": "stream",
     "text": [
      "G\n",
      "f\n",
      "G\n"
     ]
    }
   ],
   "source": [
    "# declaring the string\n",
    "str = \"Geeks for Geeks !\"\n",
    "  \n",
    "# accessing the character of str at 0th index\n",
    "print(str[0])\n",
    "  \n",
    "# accessing the character of str at 6th index\n",
    "print(str[6])\n",
    "  \n",
    "# accessing the character of str at 10th index\n",
    "print(str[10])"
   ]
  },
  {
   "cell_type": "markdown",
   "id": "9f9624ba",
   "metadata": {},
   "source": [
    "- 2. Accessing Characters by Negative Index Number :\n",
    "\n",
    "In this type of Indexing, we pass the Negative index(which we want to access) in square brackets. Here the index number starts from index number -1 (which denotes the last character of a string). Example 2 (Negative Indexing) :"
   ]
  },
  {
   "cell_type": "code",
   "execution_count": 12,
   "id": "ab19c26e",
   "metadata": {},
   "outputs": [
    {
     "name": "stdout",
     "output_type": "stream",
     "text": [
      "!\n",
      "a\n",
      " \n"
     ]
    }
   ],
   "source": [
    "# declaring the string\n",
    "str = \"One Neuron for all !\"\n",
    "  \n",
    "# accessing the character of str at last index\n",
    "print(str[-1])\n",
    "  \n",
    "# accessing the character of str at 5th index from the last\n",
    "print(str[-5])\n",
    "  \n",
    "# accessing the character of str at 10th index from the last\n",
    "print(str[-10])"
   ]
  },
  {
   "cell_type": "markdown",
   "id": "c55a9bae",
   "metadata": {},
   "source": [
    "Slicing Slicing in Python is a feature that enables accessing parts of sequence. In slicing string, we create a substring, which is essentially a string that exists within another string. We use slicing when we require a part of string and not the complete string. Syntax :"
   ]
  },
  {
   "cell_type": "markdown",
   "id": "ba130d66",
   "metadata": {},
   "source": [
    "string [start : end : step]\n",
    "\n",
    "start : We provide the starting index.\n",
    "\n",
    "end : We provide the end index(this is not included in substring).\n",
    "\n",
    "step : It is an optional argument that determines the increment between each index for slicing.\n"
   ]
  },
  {
   "cell_type": "code",
   "execution_count": 16,
   "id": "2d2fe51c",
   "metadata": {},
   "outputs": [
    {
     "name": "stdout",
     "output_type": "stream",
     "text": [
      "One\n",
      "n \n",
      "!larfn\n"
     ]
    }
   ],
   "source": [
    "# declaring the string\n",
    "str =\"One Neuron for all !\"\n",
    "  \n",
    "# slicing using indexing sequence \n",
    "print(str[: 3]) \n",
    "print(str[1 : 5 : 2]) \n",
    "print(str[-1 : -12 : -2])"
   ]
  },
  {
   "cell_type": "markdown",
   "id": "9a10ad2e",
   "metadata": {},
   "source": [
    "### Q4. What is the relationship between indexing and slicing?"
   ]
  },
  {
   "cell_type": "markdown",
   "id": "8254c3e9",
   "metadata": {},
   "source": [
    "In Python, **indexing** is used to access individual elements from the sequence. It supports both positive and negative indexing. Indexing raises an IndexError for out-of-range indices. On the other hand, **slicing** is indexing syntax that extracts a portion from a list. If a is a list, then a [m:n] returns the portion of a: Starting with position m Up to but not including n Negative indexing can also be used.\n"
   ]
  },
  {
   "cell_type": "markdown",
   "id": "125532e5",
   "metadata": {},
   "source": [
    "#### indexing\n",
    "a[-1]    # last item in the array\n",
    "\n",
    "a[-2:]   # last two items in the array\n",
    "\n",
    "a[:-2]   # everything except the last two items\n"
   ]
  },
  {
   "cell_type": "markdown",
   "id": "ba57ac20",
   "metadata": {},
   "source": [
    "##### A slice object can represent a slicing operation, i.e.:\n",
    "\n",
    "a[start:stop:step]\n",
    "is equivalent to:\n",
    "\n",
    "a[slice(start, stop, step)]"
   ]
  },
  {
   "cell_type": "markdown",
   "id": "b92b86d1",
   "metadata": {},
   "source": [
    "### Q5. What is an indexed character's exact data type? What is the data form of a slicing-generated substring?"
   ]
  },
  {
   "cell_type": "markdown",
   "id": "c5048d38",
   "metadata": {},
   "source": [
    "Indexed character's exact data type is str\n",
    "\n",
    "The data form of a slicing-generated substring is list"
   ]
  },
  {
   "cell_type": "markdown",
   "id": "5600a94e",
   "metadata": {},
   "source": [
    "### Q6. What is the relationship between string and character \"types\" in Python?"
   ]
  },
  {
   "cell_type": "markdown",
   "id": "837e782d",
   "metadata": {},
   "source": [
    "Strings are defined as an array of characters. The difference between a character array and a string is the string is terminated with a special character '\\0'. Declaring a string is as simple as declaring a one dimensional array. Below is the basic syntax for declaring a string in python programming language\n",
    "\n",
    "\"python str\" should lead you to the official python.org string methods which lists all the str methods. Python does not have a separate character type. Instead an expression like s[8] returns a string-length-1 containing the character.\n",
    "\n",
    "Individual characters in a string can be accessed by specifying the string name followed by a number in square brackets ( [] ). String indexing in Python is zero-based: the first character in the string has index 0 , the next has index 1 , and so on."
   ]
  },
  {
   "cell_type": "markdown",
   "id": "06492969",
   "metadata": {},
   "source": [
    "### Q7. Identify at least two operators and one method that allow you to combine one or more smaller strings to create a larger string."
   ]
  },
  {
   "cell_type": "markdown",
   "id": "a5f91d7a",
   "metadata": {},
   "source": [
    "- Using the % operator\n",
    "\n",
    "The modulus operator (“%”) can be used for both string formatting and string concatenation. It is useful for cases in which you need to combine strings and also perform basic formatting.\n",
    "\n",
    "An example to illustrate concatenation of string using “%” operator:"
   ]
  },
  {
   "cell_type": "code",
   "execution_count": 22,
   "id": "50e05c01",
   "metadata": {},
   "outputs": [
    {
     "name": "stdout",
     "output_type": "stream",
     "text": [
      "Apple Shake\n"
     ]
    }
   ],
   "source": [
    "a = 'Apple' \n",
    "b = 'Shake'\n",
    "print('% s % s' % (a, b)) "
   ]
  },
  {
   "cell_type": "markdown",
   "id": "e3cd149d",
   "metadata": {},
   "source": [
    "### Q8. What is the benefit of first checking the target string with in or not in before using the index method to find a substring?"
   ]
  },
  {
   "cell_type": "markdown",
   "id": "c3f86a4c",
   "metadata": {},
   "source": [
    "Given two strings s1 and s2, find if s1 is a substring of s2. If yes, return the index of the first occurrence, else return -1.\n",
    "\n",
    "Examples :\n",
    "\n",
    "Input: s1 = \"for\", s2 = \"geeksforgeeks\" Output: 5 Explanation: String \"for\" is present as a substring of s2.\n",
    "\n",
    "Input: s1 = \"practice\", s2 = \"geeksforgeeks\" Output: -1. Explanation: There is no occurrence of \"practice\" in \"geeksforgeeks\" Explanation: String \"for\" is present as a substring of s2.\n",
    "\n",
    "Input: s1 = \"practice\", s2 = \"geeksforgeeks\" Output: -1. Explanation: There is no occurrence of \"practice\" in \"geeksforgeeks\"\n",
    "\n",
    "Simple Approach: The idea is to run a loop from start to end and for every index in the given string check whether the sub-string can be formed from that index. This can be done by running a nested loop traversing the given string and in that loop run another loop checking for sub-string from every index. For example, consider there to be a string of length N and a substring of length M. Then run a nested loop, where the outer loop runs from 0 to (N-M) and the inner loop from 0 to M. For very index check if the sub-string traversed by the inner loop is the given sub-string or not."
   ]
  },
  {
   "cell_type": "code",
   "execution_count": null,
   "id": "863ef411",
   "metadata": {},
   "outputs": [],
   "source": [
    "# Python3 program to check if\n",
    "# a string is substring of other.\n",
    " \n",
    "# Returns true if s1 is substring of s2\n",
    "def isSubstring(s1, s2):\n",
    "    M = len(s1)\n",
    "    N = len(s2)\n",
    " \n",
    "    # A loop to slide pat[] one by one\n",
    "    for i in range(N - M + 1):\n",
    " \n",
    "        # For current index i,\n",
    "        # check for pattern match\n",
    "        for j in range(M):\n",
    "            if (s2[i + j] != s1[j]):\n",
    "                break\n",
    "             \n",
    "        if j + 1 == M :\n",
    "            return i\n",
    " \n",
    "    return -1\n",
    " \n",
    "# Driver Code\n",
    "if __name__ == \"__main__\":\n",
    "    s1 = \"for\"\n",
    "    s2 = \"geeksforgeeks\"\n",
    "    res = isSubstring(s1, s2)\n",
    "    if res == -1 :\n",
    "        print(\"Not present\")\n",
    "    else:\n",
    "        print(\"Present at index \" + str(res))"
   ]
  },
  {
   "cell_type": "markdown",
   "id": "c35bb4d5",
   "metadata": {},
   "source": [
    "### Q9. Which operators and built-in string methods produce simple Boolean (true/false) results?"
   ]
  },
  {
   "cell_type": "markdown",
   "id": "e2a9a702",
   "metadata": {},
   "source": [
    "In programming, comparison operators are used to compare values and evaluate down to a single Boolean value of either True or False."
   ]
  },
  {
   "cell_type": "markdown",
   "id": "190f4910",
   "metadata": {},
   "source": [
    "There are several operators and built-in string methods that produce simple Boolean (true/false) results. Some of the most common ones are:\n",
    "\n",
    "- Comparison operators such as `==`, `<`, `>`, `!=`, `<=`, and `>=`.\n",
    "- Logical operators such as `&&` (AND), `||` (OR), and `!` (NOT).\n",
    "- String methods such as `.startsWith()`, `.endsWith()`, `.contains()`, and `.matches()`.\n",
    "\n",
    "These operators and methods are used to compare values or check if a string contains a certain substring. For example, the comparison operator `==` returns true if two values are equal, while the logical operator `&&` returns true if both conditions are true."
   ]
  },
  {
   "cell_type": "code",
   "execution_count": null,
   "id": "7718cbb1",
   "metadata": {},
   "outputs": [],
   "source": []
  }
 ],
 "metadata": {
  "kernelspec": {
   "display_name": "Python 3 (ipykernel)",
   "language": "python",
   "name": "python3"
  },
  "language_info": {
   "codemirror_mode": {
    "name": "ipython",
    "version": 3
   },
   "file_extension": ".py",
   "mimetype": "text/x-python",
   "name": "python",
   "nbconvert_exporter": "python",
   "pygments_lexer": "ipython3",
   "version": "3.9.13"
  }
 },
 "nbformat": 4,
 "nbformat_minor": 5
}
