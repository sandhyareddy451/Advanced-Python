{
 "cells": [
  {
   "cell_type": "markdown",
   "id": "3502c06d",
   "metadata": {},
   "source": [
    "### Q1. In Python 3.X, what are the names and functions of string object types?"
   ]
  },
  {
   "cell_type": "markdown",
   "id": "9d9ed67e",
   "metadata": {},
   "source": [
    "Python has a set of built-in methods that you can use on strings.\n",
    "\n",
    "Note: All string methods returns new values. They do not change the original string.\n",
    "\n",
    "Method ---------------Description\n",
    "\n",
    "capitalize() -----------Converts the first character to upper case\n",
    "\n",
    "casefold() -----------Converts string into lower case\n",
    "\n",
    "center() ------------Returns a centered string\n",
    "\n",
    "count() --------------Returns the number of times a specified value occurs in a string\n",
    "\n",
    "encode() -----------Returns an encoded version of the string\n",
    "\n",
    "endswith() -------------Returns true if the string ends with the specified value\n",
    "\n",
    "expandtabs() ----------Sets the tab size of the string\n",
    "\n",
    "find() ----------Searches the string for a specified value and returns the position of where it was found\n",
    "\n",
    "format() ----------Formats specified values in a string\n",
    "\n",
    "format_map() ---------Formats specified values in a string\n",
    "\n",
    "index() ----------Searches the string for a specified value and returns the position of where it was found\n",
    "\n",
    "isalnum() -----------Returns True if all characters in the string are alphanumeric\n",
    "\n",
    "isalpha() --------Returns True if all characters in the string are in the alphabet\n",
    "\n",
    "isascii() -------Returns True if all characters in the string are ascii characters\n",
    "\n",
    "isdecimal() -------Returns True if all characters in the string are decimals\n",
    "\n",
    "isdigit() ----------Returns True if all characters in the string are digits\n",
    "\n",
    "isidentifier() --------Returns True if the string is an identifier\n",
    "\n",
    "islower() --------Returns True if all characters in the string are lower case\n",
    "\n",
    "isnumeric() -------Returns True if all characters in the string are numeric\n",
    "\n",
    "isprintable() ------Returns True if all characters in the string are printable\n",
    "\n",
    "isspace() -----Returns True if all characters in the string are whitespaces\n",
    "\n",
    "istitle() --------Returns True if the string follows the rules of a title\n",
    "\n",
    "isupper() ------Returns True if all characters in the string are upper case\n",
    "\n",
    "join() --------Converts the elements of an iterable into a string\n",
    "\n",
    "ljust() ----------Returns a left justified version of the string\n",
    "\n",
    "lower() -------Converts a string into lower case\n",
    "\n",
    "lstrip() --------Returns a left trim version of the string\n",
    "\n",
    "maketrans() --------Returns a translation table to be used in translations\n",
    "\n",
    "partition() ----------Returns a tuple where the string is parted into three parts\n",
    "\n",
    "replace() ---------Returns a string where a specified value is replaced with a specified value\n",
    "\n",
    "rfind() --------Searches the string for a specified value and returns the last position of where it was found\n",
    "\n",
    "rindex() ---------Searches the string for a specified value and returns the last position of where it was found\n",
    "\n",
    "rjust() -------Returns a right justified version of the string\n",
    "\n",
    "rpartition() -------Returns a tuple where the string is parted into three parts\n",
    "\n",
    "rsplit() ----------Splits the string at the specified separator, and returns a list\n",
    "\n",
    "rstrip() --------Returns a right trim version of the string\n",
    "\n",
    "split() --------Splits the string at the specified separator, and returns a list\n",
    "\n",
    "splitlines() -----------Splits the string at line breaks and returns a list\n",
    "\n",
    "startswith() --------Returns true if the string starts with the specified value\n",
    "\n",
    "strip() -------Returns a trimmed version of the string\n",
    "\n",
    "swapcase() -------Swaps cases, lower case becomes upper case and vice versa\n",
    "\n",
    "title() ----------Converts the first character of each word to upper case\n",
    "\n",
    "translate() --------Returns a translated string\n",
    "\n",
    "upper() ---------Converts a string into upper case\n",
    "\n",
    "zfill() --------Fills the string with a specified number of 0 values at the beginning"
   ]
  },
  {
   "cell_type": "markdown",
   "id": "b32b2ec4",
   "metadata": {},
   "source": [
    "### Q2. How do the string forms in Python 3.X vary in terms of operations?"
   ]
  },
  {
   "cell_type": "markdown",
   "id": "35ceef0c",
   "metadata": {},
   "source": [
    "string — Common string operations\n",
    "\n",
    "  * String constants\n",
    "  \n",
    "The constants defined in this module are:\n",
    "\n",
    "string.ascii_letters The concatenation of the ascii_lowercase and ascii_uppercase constants described below. This value is not locale-dependent.\n",
    "\n",
    "string.ascii_lowercase The lowercase letters 'abcdefghijklmnopqrstuvwxyz'. This value is not locale-dependent and will not change.\n",
    "\n",
    "string.ascii_uppercase The uppercase letters 'ABCDEFGHIJKLMNOPQRSTUVWXYZ'. This value is not locale-dependent and will not change.\n",
    "\n",
    "string.digits The string '0123456789'.\n",
    "\n",
    "string.hexdigits The string '0123456789abcdefABCDEF'.\n",
    "\n",
    "string.octdigits The string '01234567'.\n",
    "\n",
    "string.punctuation String of ASCII characters which are considered punctuation characters in the C locale: !\"#$%&'()*+,-./:;<=>?@[]^_`{|}~.\n",
    "\n",
    "string.printable String of ASCII characters which are considered printable. This is a combination of digits, ascii_letters, punctuation, and whitespace.\n",
    "\n",
    "string.whitespace A string containing all ASCII characters that are considered whitespace. This includes the characters space, tab, linefeed, return, formfeed, and vertical tab.\n"
   ]
  },
  {
   "cell_type": "markdown",
   "id": "865dc5a2",
   "metadata": {},
   "source": [
    "### Q3. In 3.X, how do you put non-ASCII Unicode characters in a string?"
   ]
  },
  {
   "cell_type": "markdown",
   "id": "0461d8de",
   "metadata": {},
   "source": [
    "Non-ASCII domains are called Internationalized Domain Names (IDNs). ... They are not confined to strictly ASCII characters. Examples of Non-ASCII Characters. Examples of non-ascii characters used in international domain extensions.\n",
    "\n",
    "I have a string that looks like so:"
   ]
  },
  {
   "cell_type": "code",
   "execution_count": 2,
   "id": "e52b0e4e",
   "metadata": {},
   "outputs": [],
   "source": [
    "s = '6Â 918Â 417Â 712'"
   ]
  },
  {
   "cell_type": "markdown",
   "id": "7fc8c356",
   "metadata": {},
   "source": [
    "The clear cut way to trim this string (as I understand Python) is simply to say the string is in a variable called s, we get:"
   ]
  },
  {
   "cell_type": "code",
   "execution_count": 3,
   "id": "44331a94",
   "metadata": {},
   "outputs": [
    {
     "data": {
      "text/plain": [
       "'6918417712'"
      ]
     },
     "execution_count": 3,
     "metadata": {},
     "output_type": "execute_result"
    }
   ],
   "source": [
    "s.replace('Â ', '')"
   ]
  },
  {
   "cell_type": "markdown",
   "id": "eeff9291",
   "metadata": {},
   "source": [
    "How to remove non-ASCII characters in Python\n",
    "Removing non-ASCII characters results in a string that only contains ASCII characters. For example, removing non-ASCII characters from \"àa string withé fuünny characters\" results in \"a string with funny characters\".\n",
    "\n",
    "Call str.encode(encoding, errors) with encoding as \"ASCII\" and errors as \"ignore\" to return str without \"ASCII\" characters. Use str.decode() to encode str."
   ]
  },
  {
   "cell_type": "code",
   "execution_count": 4,
   "id": "5eb60fa2",
   "metadata": {},
   "outputs": [],
   "source": [
    "string_with_nonASCII = \"àa string withé fuünny charactersß.\""
   ]
  },
  {
   "cell_type": "code",
   "execution_count": 5,
   "id": "31f9d76b",
   "metadata": {},
   "outputs": [],
   "source": [
    "encoded_string = string_with_nonASCII.encode(\"ascii\", \"ignore\")"
   ]
  },
  {
   "cell_type": "code",
   "execution_count": 6,
   "id": "9e75d3b2",
   "metadata": {},
   "outputs": [
    {
     "name": "stdout",
     "output_type": "stream",
     "text": [
      "a string with funny characters.\n"
     ]
    }
   ],
   "source": [
    "decode_string = encoded_string.decode()\n",
    "\n",
    "print(decode_string)"
   ]
  },
  {
   "cell_type": "markdown",
   "id": "40753c79",
   "metadata": {},
   "source": [
    "### Q4. In Python 3.X, what are the key differences between text-mode and binary-mode files?"
   ]
  },
  {
   "cell_type": "markdown",
   "id": "90014831",
   "metadata": {},
   "source": [
    "The major difference between these two is that a text file contains textual information in the form of alphabets, digits and special characters or symbols. On the other hand, a binary file contains bytes or a compiled version of a text file.\n",
    "\n",
    "Text Files\n",
    "Text files are special subset of binary files that are used to store human readable characters as a rich text document or plain text document. Text files also store data in sequential bytes but bits in text file represents characters.\n",
    "\n",
    "Text files are less prone to get corrupted as any undesired change may just show up once the file is opened and then can easily be removed.\n",
    "\n",
    "Text files are of two types:\n",
    "\n",
    "1.Plain text files: These files store End of Line (EOL) marker at the end of each line to represent line break and an End of File (EOF) at the end of the file to represent end of file.\n",
    "\n",
    "2.Rich text files: These files also follow the same schema as the plain text files but may also store text related information like text colour, text style, font style etc. Because of simple and standard format to store data, text files are one of the most used file formats for storing textual data and are supported in many applications.\n",
    "\n",
    "Binary File\n",
    "Binary file are those typical files that store data in the form of sequence of bytes grouped into eight bits or sometimes sixteen bits. These bits represent custom data and such files can store multiple types of data (images, audio, text, etc) under a single file.\n",
    "\n",
    "Binary file can have custom file formats and the developer, who designs these custom file formats, converts the information, to be stored, in bits and arranges these bits in binary file so that they are well understood by the supporting application and when needed, can easily be read by the supporting application.\n",
    "\n",
    "One most common example of binary file is image file is .PNG or .JPG. If one tries open these files using a text editor then, he/she may get unrecognizable characters, but when opened using the supporting image viewer, the file will be shown as a single image. This is because the file is in binary format and contains data in the form of sequence of bytes. When the text editor tries to read these bytes and tries to convert bits into characters, they get undesired special characters and display it to the user.\n",
    "\n",
    "Binary files also store file information like file name, file format, etc., which may be included in the file as header to the file and is visible even when the file is opened in a text editor.\n",
    "\n",
    "Since binary files store data in sequential bytes, a small change in the file can corrupt the file and make it unreadable to the supporting application.\n",
    "\n"
   ]
  },
  {
   "cell_type": "markdown",
   "id": "138a9408",
   "metadata": {},
   "source": [
    "### Q5. How can you interpret a Unicode text file containing text encoded in a different encoding than your platform's default?"
   ]
  },
  {
   "cell_type": "markdown",
   "id": "c2cceaf7",
   "metadata": {},
   "source": [
    "To process text effectively in Python 3, it’s necessary to learn at least a tiny amount about Unicode and text encodings:\n",
    "\n",
    "1.Python 3 always stores text strings as sequences of Unicode code points. These are values in the range 0-0x10FFFF. They don’t always correspond directly to the characters you read on your screen, but that distinction doesn’t matter for most text manipulation tasks.\n",
    "\n",
    "2.To store text as binary data, you must specify an encoding for that text.\n",
    "\n",
    "3.The process of converting from a sequence of bytes (i.e. binary data) to a sequence of code points (i.e. text data) is decoding, while the reverse process is encoding.\n",
    "\n",
    "4.For historical reasons, the most widely used encoding is ascii, which can only handle Unicode code points in the range 0-0x7F (i.e. ASCII is a 7-bit encoding).\n",
    "\n",
    "5.There are a wide variety of ASCII compatible encodings, which ensure that any appearance of a valid ASCII value in the binary data refers to the corresponding ASCII character.\n",
    "\n",
    "6.“utf-8” is becoming the preferred encoding for many applications, as it is an ASCII-compatible encoding that can encode any valid Unicode code point.\n",
    "\n",
    "7.“latin-1” is another significant ASCII-compatible encoding, as it maps byte values directly to the first 256 Unicode code points. (Note that Windows has it’s own “latin-1” variant called cp1252, but, unlike the ISO “latin-1” implemented by the Python codec with that name, the Windows specific variant doesn’t map all 256 possible byte values)\n",
    "\n",
    "8.There are also many ASCII incompatible encodings in widespread use, particularly in Asian countries (which had to devise their own solutions before the rise of Unicode) and on platforms such as Windows, Java and the .NET CLR, where many APIs accept text as UTF-16 encoded data.\n",
    "\n",
    "9.The locale.getpreferredencoding() call reports the encoding that Python will use by default for most operations that require an encoding (e.g. reading in a text file without a specified encoding). This is designed to aid interoperability between Python and the host operating system, but can cause problems with interoperability between systems (if encoding issues are not managed consistently).\n",
    "\n",
    "10.The sys.getfilesystemencoding() call reports the encoding that Python will use by default for most operations that both require an encoding and involve textual metadata in the filesystem (e.g. determining the results of os.listdir())\n",
    "\n",
    "11.If you’re a native English speaker residing in an English speaking country (like me!) it’s tempting to think “but Python 2 works fine, why are you bothering me with all this Unicode malarkey?”. It’s worth trying to remember that we’re actually a minority on this planet and, for most people on Earth, ASCII and latin-1 can’t even handle their name, let alone any other text they might want to write or process in their native language."
   ]
  },
  {
   "cell_type": "markdown",
   "id": "0a7d5cc9",
   "metadata": {},
   "source": [
    "### Q6. What is the best way to make a Unicode text file in a particular encoding format?"
   ]
  },
  {
   "cell_type": "markdown",
   "id": "91df0ea4",
   "metadata": {},
   "source": [
    "Writing unicode to a text file adds a line or multiple lines of unicode text to the file. UTF-8 is the most common unicode character encoding.\n",
    "\n",
    "Call str.encode(encoding) with encoding set to \"utf8\" to encode str. Call open(file, mode) to open a file with mode set to \"wb\" . \"wb\" writes to files in binary mode and preserves UTF-8 format. Call file.write(data) to write data to the file."
   ]
  },
  {
   "cell_type": "code",
   "execution_count": null,
   "id": "165463b5",
   "metadata": {},
   "outputs": [],
   "source": [
    "\n",
    "unicode_text = u'ʑʒʓʔʕʗʘʙʚʛʜʝʞ'\n",
    "encoded_unicode = unicode_text.encode(\"utf8\")\n",
    "\n",
    "a_file = open(\"textfile.txt\", \"wb\")\n",
    "a_file.write(encoded_unicode)\n",
    "\n",
    "a_file = open(\"textfile.txt\", \"r\")\n",
    "#r reads contents of a file\n",
    "\n",
    "contents = a_file.read()\n",
    "\n",
    "print(contents)"
   ]
  },
  {
   "cell_type": "markdown",
   "id": "30be0896",
   "metadata": {},
   "source": [
    "### Q7. What qualifies ASCII text as a form of Unicode text?"
   ]
  },
  {
   "cell_type": "markdown",
   "id": "2f905475",
   "metadata": {},
   "source": [
    "\n",
    "The first 128 Unicode code points represent the ASCII characters, which means that any ASCII text is also a UTF-8 text. UCS-2 uses two bytes (16 bits) for each character but can only encode the first 65,536 code points, the so-called Basic Multilingual Plane (BMP).\n",
    "\n",
    "ASCII defines 128 characters, which map to the numbers 0–127. Unicode defines (less than) 221 characters, which, similarly, map to numbers 0–221 (though not all numbers are currently assigned, and some are reserved).\n",
    "\n",
    "When sending out your message, you have the option to choose between \"TEXT\" or \"UNICODE\" message encoding. With TEXT encoding, you can use all the most common characters in the alphabet. With UNICODE encoding, you can use special characters, like chinese, arabic, emoticons, ...\n",
    "\n",
    " "
   ]
  },
  {
   "cell_type": "markdown",
   "id": "97f7ee1f",
   "metadata": {},
   "source": [
    "### Q8. How much of an effect does the change in string types in Python 3.X have on your code?"
   ]
  },
  {
   "cell_type": "markdown",
   "id": "05428d82",
   "metadata": {},
   "source": [
    "This article explains the new features in Python 3.0, compared to 2.6. Python 3.0, also known as “Python 3000” or “Py3K”, is the first ever intentionally backwards incompatible Python release. There are more changes than in a typical release, and more that are important for all Python users. Nevertheless, after digesting the changes, you’ll find that Python really hasn’t changed all that much – by and large, we’re mostly fixing well-known annoyances and warts, and removing a lot of old cruft.\n",
    "\n",
    "This article doesn’t attempt to provide a complete specification of all new features, but instead tries to give a convenient overview. For full details, you should refer to the documentation for Python 3.0, and/or the many PEPs referenced in the text. If you want to understand the complete implementation and design rationale for a particular feature, PEPs usually have more details than the regular documentation; but note that PEPs usually are not kept up-to-date once a feature has been fully implemented.\n",
    "\n",
    "Due to time constraints this document is not as complete as it should have been. As always for a new release, the Misc/NEWS file in the source distribution contains a wealth of detailed information about every small thing that was changed."
   ]
  },
  {
   "cell_type": "code",
   "execution_count": null,
   "id": "0ccbced2",
   "metadata": {},
   "outputs": [],
   "source": []
  }
 ],
 "metadata": {
  "kernelspec": {
   "display_name": "Python 3 (ipykernel)",
   "language": "python",
   "name": "python3"
  },
  "language_info": {
   "codemirror_mode": {
    "name": "ipython",
    "version": 3
   },
   "file_extension": ".py",
   "mimetype": "text/x-python",
   "name": "python",
   "nbconvert_exporter": "python",
   "pygments_lexer": "ipython3",
   "version": "3.9.13"
  }
 },
 "nbformat": 4,
 "nbformat_minor": 5
}
