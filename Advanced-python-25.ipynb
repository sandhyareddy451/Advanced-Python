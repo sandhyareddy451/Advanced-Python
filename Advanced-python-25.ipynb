{
 "cells": [
  {
   "cell_type": "markdown",
   "id": "3edab36e",
   "metadata": {},
   "source": [
    "### Q1. What is the distinction between a numpy array and a pandas data frame? Is there a way to convert between the two if there is ?\n",
    "\n",
    "Numpy Ndarray provides a lot of convenient and optimized methods for performing several mathematical operations on vectors.\n",
    "\n",
    "Pandas Dataframe is an in-memory 2-dimensional tabular representation of data. In simpler words, it can be seen as a spreadsheet having rows and columns.\n",
    "\n",
    "Conversion : Dataframe=pandas.DataFrame(array)"
   ]
  },
  {
   "cell_type": "markdown",
   "id": "71cbb084",
   "metadata": {},
   "source": [
    "### Q2. Identify some of the plotting techniques that are used to produce a stock-market chart ?\n",
    "Bar chart, Line Chart are used for plotting."
   ]
  },
  {
   "cell_type": "markdown",
   "id": "6c512c60",
   "metadata": {},
   "source": [
    "### Q3. Why is it essential to print a legend on a stock market chart ?\n",
    "Legend will help comparison between different stocks, so will be essential on a stock market chart"
   ]
  },
  {
   "cell_type": "markdown",
   "id": "04cdd7a8",
   "metadata": {},
   "source": [
    "### Q4. What is the best way to limit the length of a pandas data frame to less than a year ?\n",
    "We can use start and end parameters for that. In start we write the date from where we are starting and at the end we write the end date.\n",
    "\n",
    "SO within this span we can restrict the duration.Also we can use the parameters like periods for how much times we need the duration and we can also use the frequency parameter."
   ]
  },
  {
   "cell_type": "markdown",
   "id": "227c4377",
   "metadata": {},
   "source": [
    "### Q5. What is the definition of a 180-day moving average ?\n",
    "\n",
    "The 180-day moving average is represented as a line on charts and represents the average price over the past 180 days.\n",
    "\n",
    "The moving average can give traders a sense regarding whether the trend is up or down, while also identifying potential support or resistance areas.\n"
   ]
  },
  {
   "cell_type": "markdown",
   "id": "3cfca04b",
   "metadata": {},
   "source": [
    "### Q2. What can go wrong when an user enters in a stock-ticker symbol, and how do you handle it?"
   ]
  },
  {
   "cell_type": "markdown",
   "id": "597c061b",
   "metadata": {},
   "source": [
    "Entering the wrong stock ticker symbol can lead to a costly mistake. For example, if a trading friend talks about a trending stock, and another trader enters the wrong ticker symbol while making a trade, that trader ends up with the wrong asset. \n",
    "\n",
    "If a ticker symbol has an \"E\" after its name, that means the company has not met regulatory rules for financial reporting. Once they meet those requirements, the exchanges remove that letter. If they fail to do so, firms can be delisted and banned from trading until they meet the rules."
   ]
  },
  {
   "cell_type": "markdown",
   "id": "42c87a7d",
   "metadata": {},
   "source": [
    "### Q7. Did the chapter&#39;s final example use &quot;indirect&quot; importing? If so, how exactly do you do it?"
   ]
  },
  {
   "cell_type": "markdown",
   "id": "3aa96c15",
   "metadata": {},
   "source": [
    "#Indirect importing is when you import a module indirectly through another module. It is done by importing the module that contains the module you want to import. Here’s an example:"
   ]
  },
  {
   "cell_type": "code",
   "execution_count": null,
   "id": "ed677b56",
   "metadata": {},
   "outputs": [],
   "source": [
    "import sys\n",
    "sys.path.append('/path/to/module')\n",
    "from module import function\n",
    "Copy\n",
    "This code adds the path to the module to the system path and then imports the function from the module."
   ]
  },
  {
   "cell_type": "code",
   "execution_count": null,
   "id": "6a3db579",
   "metadata": {},
   "outputs": [],
   "source": []
  }
 ],
 "metadata": {
  "kernelspec": {
   "display_name": "Python 3 (ipykernel)",
   "language": "python",
   "name": "python3"
  },
  "language_info": {
   "codemirror_mode": {
    "name": "ipython",
    "version": 3
   },
   "file_extension": ".py",
   "mimetype": "text/x-python",
   "name": "python",
   "nbconvert_exporter": "python",
   "pygments_lexer": "ipython3",
   "version": "3.9.13"
  }
 },
 "nbformat": 4,
 "nbformat_minor": 5
}
