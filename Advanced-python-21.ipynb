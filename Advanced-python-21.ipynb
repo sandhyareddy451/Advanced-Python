{
 "cells": [
  {
   "cell_type": "markdown",
   "id": "a11edc52",
   "metadata": {},
   "source": [
    "### Q1. What is a probability distribution, exactly? If the values are meant to be random, how can you predict them at all ?\n",
    "\n",
    "A probability distribution describes how a random variable is distributed.\n",
    "\n",
    "It tells us which values a random variable is most likely to take on and which values are less likely. Based on the previous data and the occurences of the random event, we can predict the outcome in terms of probabilities."
   ]
  },
  {
   "cell_type": "markdown",
   "id": "507b204f",
   "metadata": {},
   "source": [
    "### Q2. Is there a distinction between true random numbers and pseudo-random numbers, if there is one? Why are the latter considered “good enough”?\n",
    "\n",
    "True Random Numbers are true physical values while pseudo-random numbers are generated internally by a program . Latter is considered good enough as they have sort of uniform distribution."
   ]
  },
  {
   "cell_type": "markdown",
   "id": "de4ecfe0",
   "metadata": {},
   "source": [
    "### Q3. What are the two main factors that influence the behaviour of a \"normal\" probability distribution ?\n",
    "Normal Probability Distribution are influenced by two factors mean and the variance."
   ]
  },
  {
   "cell_type": "markdown",
   "id": "e749977c",
   "metadata": {},
   "source": [
    "### Q4. Provide a real-life example of a normal distribution ?\n",
    "A Real-life example of a normal distribution are heights or blood pressure measurements"
   ]
  },
  {
   "cell_type": "markdown",
   "id": "d08ef523",
   "metadata": {},
   "source": [
    "### Q5. In the short term, how can you expect a probability distribution to behave? What do you think will happen as the number of trials grows ?\n",
    "Variance will decrease with number of trials"
   ]
  },
  {
   "cell_type": "markdown",
   "id": "6d305a98",
   "metadata": {},
   "source": [
    "### Q6. What kind of object can be shuffled by using random.shuffle ?\n",
    "\n",
    "lists (list), strings (str) and tuples (tuple) objects can be shuffled by using random.shuffle."
   ]
  },
  {
   "cell_type": "markdown",
   "id": "4a053a6f",
   "metadata": {},
   "source": [
    "### Q7. Describe the math package's general categories of functions ?\n",
    "\n",
    "The Math package's general categories of functions are:\n",
    "\n",
    "- Trigonometric functions\n",
    "- Quadratic functions\n",
    "- Exponential functions\n",
    "- Hyperbolic functions\n",
    "- Periodic functions\n",
    "- Arithmetic functions\n",
    "- Logarithimic functions\n",
    "- Conversions to Integer"
   ]
  },
  {
   "cell_type": "markdown",
   "id": "6ee4c451",
   "metadata": {},
   "source": [
    "### Q8. What is the relationship between exponentiation and logarithms ?\n",
    "Exponentiation and logarithms are inverse of each other.\n"
   ]
  },
  {
   "cell_type": "markdown",
   "id": "35cb798a",
   "metadata": {},
   "source": [
    "### Q9. What are the three logarithmic functions that Python supports ?\n",
    "The Three Logarithmic Functions that Python supports are:\n",
    "\n",
    "- log2(x) - logarithmic value of x to base 2\n",
    "\n",
    "- log10(x) - logarithmic value of x to base 10\n",
    "\n",
    "- log1p(a) - This function is used to compute logarithm(1+a) ."
   ]
  },
  {
   "cell_type": "code",
   "execution_count": null,
   "id": "0d9d511a",
   "metadata": {},
   "outputs": [],
   "source": []
  },
  {
   "cell_type": "code",
   "execution_count": null,
   "id": "4f4d80b4",
   "metadata": {},
   "outputs": [],
   "source": []
  },
  {
   "cell_type": "code",
   "execution_count": null,
   "id": "ac2da02d",
   "metadata": {},
   "outputs": [],
   "source": []
  },
  {
   "cell_type": "code",
   "execution_count": null,
   "id": "ff389002",
   "metadata": {},
   "outputs": [],
   "source": []
  },
  {
   "cell_type": "code",
   "execution_count": null,
   "id": "8215e4f5",
   "metadata": {},
   "outputs": [],
   "source": []
  },
  {
   "cell_type": "code",
   "execution_count": null,
   "id": "b4d2b193",
   "metadata": {},
   "outputs": [],
   "source": []
  },
  {
   "cell_type": "code",
   "execution_count": null,
   "id": "acfb4d9a",
   "metadata": {},
   "outputs": [],
   "source": []
  },
  {
   "cell_type": "code",
   "execution_count": null,
   "id": "e5434d56",
   "metadata": {},
   "outputs": [],
   "source": []
  },
  {
   "cell_type": "code",
   "execution_count": null,
   "id": "c5a9b386",
   "metadata": {},
   "outputs": [],
   "source": []
  }
 ],
 "metadata": {
  "kernelspec": {
   "display_name": "Python 3 (ipykernel)",
   "language": "python",
   "name": "python3"
  },
  "language_info": {
   "codemirror_mode": {
    "name": "ipython",
    "version": 3
   },
   "file_extension": ".py",
   "mimetype": "text/x-python",
   "name": "python",
   "nbconvert_exporter": "python",
   "pygments_lexer": "ipython3",
   "version": "3.9.13"
  }
 },
 "nbformat": 4,
 "nbformat_minor": 5
}
