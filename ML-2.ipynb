{
 "cells": [
  {
   "cell_type": "markdown",
   "id": "223295fe",
   "metadata": {},
   "source": [
    "## Q1. What is the relationship between classes and modules?"
   ]
  },
  {
   "cell_type": "markdown",
   "id": "8f752b70",
   "metadata": {},
   "source": [
    "### Classes:\n",
    "Classes in python are templates for creating objects.\n",
    "They contain variables and functions which define the class objects.\n",
    "\n",
    "### modules:\n",
    "modules are python programs that can be imported into another python program. \n",
    "Importing a module enables the usage of the module’s functions and variables into another program."
   ]
  },
  {
   "cell_type": "markdown",
   "id": "1a453125",
   "metadata": {},
   "source": [
    "In Python, you can create instances of a class by calling the class using its name and passing in whatever arguments its __init__ method accepts. Here is an example:"
   ]
  },
  {
   "cell_type": "markdown",
   "id": "2803b31c",
   "metadata": {},
   "source": [
    "## Q2. How do you make instances and classes?"
   ]
  },
  {
   "cell_type": "markdown",
   "id": "4d5250c5",
   "metadata": {},
   "source": [
    "In Python, you can create instances of a class by calling the class using its name and passing in whatever arguments its __init__ method accepts. Here is an example:"
   ]
  },
  {
   "cell_type": "code",
   "execution_count": 4,
   "id": "485d0c7e",
   "metadata": {},
   "outputs": [],
   "source": [
    "class Employee:\n",
    "    def __init__(self, name, salary):\n",
    "        self.name = name\n",
    "        self.salary = salary\n",
    "\n",
    "emp1 = Employee(\"Zara\", 2000)\n",
    "emp2 = Employee(\"Manni\", 5000)\n",
    "\n",
    "# Here, emp1 and emp2 are instances of the Employee class. You can create as many instances as you want."
   ]
  },
  {
   "cell_type": "markdown",
   "id": "ec5282ad",
   "metadata": {},
   "source": [
    "To create a class in Python, you use the class keyword followed by the name of the class. Here is an example:\n",
    "\n",
    "class MyClass:\n",
    "    pass\n",
    "    \n",
    "This creates an empty class named MyClass. You can add attributes and methods to this class as needed.\n",
    "\n",
    "\n"
   ]
  },
  {
   "cell_type": "markdown",
   "id": "5df01cde",
   "metadata": {},
   "source": [
    "## Q3. Where and how should be class attributes created?"
   ]
  },
  {
   "cell_type": "markdown",
   "id": "ae23dc98",
   "metadata": {},
   "source": [
    "Class attributes are attributes of the class that belong to the class itself. They are shared by all instances of the class. You can create class attributes by defining them inside the class but outside any methods. Here is an example:"
   ]
  },
  {
   "cell_type": "code",
   "execution_count": 5,
   "id": "587d6d24",
   "metadata": {},
   "outputs": [],
   "source": [
    "class MyClass:\n",
    "    class_attribute = 42\n",
    "\n",
    "    def __init__(self):\n",
    "        self.instance_attribute = 13"
   ]
  },
  {
   "cell_type": "markdown",
   "id": "1c23dd6f",
   "metadata": {},
   "source": [
    "## Q4. Where and how are instance attributes created?"
   ]
  },
  {
   "cell_type": "markdown",
   "id": "3245e2aa",
   "metadata": {},
   "source": [
    "Instance attributes are attributes that belong to individual instances of a class. They are not shared by other instances of the class. You can create instance attributes by defining them inside the __init__ method of the class. Here is an example:\n"
   ]
  },
  {
   "cell_type": "code",
   "execution_count": 7,
   "id": "6ce70aaa",
   "metadata": {},
   "outputs": [],
   "source": [
    "class MyClass:\n",
    "    def __init__(self):\n",
    "        self.instance_attribute = 13"
   ]
  },
  {
   "cell_type": "markdown",
   "id": "bb5383c1",
   "metadata": {},
   "source": [
    "## Q5. What does the term &quot;self&quot; in a Python class mean?"
   ]
  },
  {
   "cell_type": "markdown",
   "id": "9bb2264a",
   "metadata": {},
   "source": [
    "self is a reference to the instance of the class. It is used to access the attributes and methods of the class in Python. It binds the attributes with the given arguments. The reason why we use self is that Python does not use the @ syntax to refer to instance attributes"
   ]
  },
  {
   "cell_type": "code",
   "execution_count": 8,
   "id": "c667b0d8",
   "metadata": {},
   "outputs": [
    {
     "name": "stdout",
     "output_type": "stream",
     "text": [
      "13\n"
     ]
    }
   ],
   "source": [
    "class MyClass:\n",
    "    def __init__(self):\n",
    "        self.instance_attribute = 13\n",
    "\n",
    "    def my_method(self):\n",
    "        print(self.instance_attribute)\n",
    "\n",
    "my_object = MyClass()\n",
    "my_object.my_method()  # Output: 13"
   ]
  },
  {
   "cell_type": "markdown",
   "id": "f18054ac",
   "metadata": {},
   "source": [
    "## Q6. How does a Python class handle operator overloading?"
   ]
  },
  {
   "cell_type": "markdown",
   "id": "908c083c",
   "metadata": {},
   "source": [
    "operator overloading means giving extended meaning beyond their predefined operational meaning. For example operator + is used to add two integers as well as join two strings and merge two lists. It is achievable because ‘+’ operator is overloaded by int class and str class. You might have noticed that the same built-in operator or function shows different behavior for objects of different classes, this is called Operator Overloading. \n",
    "\n",
    "Whenever you change the behavior of the existing operator through operator overloading, you have to redefine the special function that is invoked automatically when the operator is used with the objects."
   ]
  },
  {
   "cell_type": "markdown",
   "id": "22f4a925",
   "metadata": {},
   "source": [
    "## Q7. When do you consider allowing operator overloading of your classes?"
   ]
  },
  {
   "cell_type": "markdown",
   "id": "5adcbfa2",
   "metadata": {},
   "source": [
    "Overloading boolean operators in a custom class can make your code more readable, consistent, concise, expressive, and functional. However, it’s important to use operator overloading judiciously and only when it makes sense for the semantics of your class."
   ]
  },
  {
   "cell_type": "markdown",
   "id": "7c595605",
   "metadata": {},
   "source": [
    "## Q8. What is the most popular form of operator overloading?"
   ]
  },
  {
   "cell_type": "markdown",
   "id": "9b703fe6",
   "metadata": {},
   "source": [
    "The most popular form of operator overloading is the arithmetic operators (+, -, *, /, etc.). However, other operators such as comparison operators (<, >, ==, etc.) and bitwise operators (&, |, ^, etc.) can also be overloaded."
   ]
  },
  {
   "cell_type": "markdown",
   "id": "c91e2761",
   "metadata": {},
   "source": [
    "## Q9. What are the two most important concepts to grasp in order to comprehend Python OOP code?"
   ]
  },
  {
   "cell_type": "markdown",
   "id": "65de464c",
   "metadata": {},
   "source": [
    "The most important concepts to understand in Python OOP are abstraction, encapsulation, inheritance, and polymorphism1.\n",
    "\n",
    "#### Abstraction:\n",
    "\n",
    "Abstraction is the process of hiding complex implementation details while showing only the necessary information to the user\n",
    "\n",
    "#### Encapsulation:\n",
    "\n",
    "Encapsulation is the process of binding data and functions that work on that data together as a single unit\n",
    "\n",
    "#### Inheritance:\n",
    "Inheritance is the process of creating a new class from an existing class\n",
    "\n",
    "#### Polymorphism:\n",
    "\n",
    "Polymorphism is the ability of an object to take on many forms."
   ]
  },
  {
   "cell_type": "code",
   "execution_count": null,
   "id": "587004e6",
   "metadata": {},
   "outputs": [],
   "source": []
  }
 ],
 "metadata": {
  "kernelspec": {
   "display_name": "Python 3 (ipykernel)",
   "language": "python",
   "name": "python3"
  },
  "language_info": {
   "codemirror_mode": {
    "name": "ipython",
    "version": 3
   },
   "file_extension": ".py",
   "mimetype": "text/x-python",
   "name": "python",
   "nbconvert_exporter": "python",
   "pygments_lexer": "ipython3",
   "version": "3.9.13"
  }
 },
 "nbformat": 4,
 "nbformat_minor": 5
}
