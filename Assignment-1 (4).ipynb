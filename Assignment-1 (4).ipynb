{
 "cells": [
  {
   "cell_type": "markdown",
   "id": "052ab5d6-a0a3-45b9-8a71-7da15a1bfe47",
   "metadata": {},
   "source": [
    "Q1. What is the purpose of Python's OOP?"
   ]
  },
  {
   "cell_type": "code",
   "execution_count": null,
   "id": "73ea719c-bf85-48c2-af68-e615b12958a9",
   "metadata": {},
   "outputs": [],
   "source": [
    "In Python, object-oriented Programming (OOPs) is a programming paradigm that uses objects and classes in programming.\n",
    "It aims to implement real-world entities like inheritance, polymorphisms, encapsulation, etc. in the programming.\n",
    "The main concept of OOPs is to bind the data and the functions that work on that together as a single unit so that no other part of the code can access this data.\n",
    "\n",
    "Main Concepts of Object-Oriented Programming (OOPs) \n",
    "Class\n",
    "Objects\n",
    "Polymorphism\n",
    "Encapsulation\n",
    "Inheritance\n",
    "Data Abstraction\n",
    "\n",
    "\n",
    "OOP is about code reuse you factor code to minimize redundancy and program by customizing what already exists instead of changing code in place or starting from scratch."
   ]
  },
  {
   "cell_type": "markdown",
   "id": "b7eac5d7-d70b-4b0c-9d58-5f9381677c74",
   "metadata": {},
   "source": [
    "Q2. Where does an inheritance search look for an attribute?"
   ]
  },
  {
   "cell_type": "code",
   "execution_count": null,
   "id": "bf8a714d-cd36-43fd-adc1-ca7189e495d0",
   "metadata": {},
   "outputs": [],
   "source": [
    "An inheritance search looks for an attribute first in the instance object, \n",
    "then in the class the instance was created from, then in all higher superclasses,\n",
    "progressing from left to right (by default). \n",
    "The search stops at the first place the attribute is found."
   ]
  },
  {
   "cell_type": "markdown",
   "id": "e22fa07f-8942-4f56-a63b-d9e560796f3c",
   "metadata": {},
   "source": [
    "Q3. How do you distinguish between a class object and an instance object?"
   ]
  },
  {
   "cell_type": "code",
   "execution_count": null,
   "id": "15086f6d-fd10-4bfe-851a-5c47b4410792",
   "metadata": {},
   "outputs": [],
   "source": [
    "Classes are a kind of factory for creating multiple instances. \n",
    "Classes also support operator overloading methods, which instances inherit,\n",
    "and treat any functions nested in the class as methods for processing instances."
   ]
  },
  {
   "cell_type": "markdown",
   "id": "329f4978-8ecf-4ad8-929b-07cbe5512339",
   "metadata": {},
   "source": [
    "Q4. What makes the first argument in a class’s method function special?"
   ]
  },
  {
   "cell_type": "code",
   "execution_count": null,
   "id": "3481e2b7-a3cf-46a2-b365-dcb02614d8c0",
   "metadata": {},
   "outputs": [],
   "source": [
    "It always receives the instance object that is the implied subject of the method call. It’s usually called 'self' by convention."
   ]
  },
  {
   "cell_type": "markdown",
   "id": "be13d0e7-2ada-42a9-8c5b-2a89c67824cb",
   "metadata": {},
   "source": [
    "Q5. What is the purpose of the __init__ method?"
   ]
  },
  {
   "cell_type": "code",
   "execution_count": null,
   "id": "452e6d7d-d7ed-467e-b326-3823c1478e59",
   "metadata": {},
   "outputs": [],
   "source": [
    "\"__init__\" is a reseved method in python classes. It is called as a constructor in object oriented terminology.\n",
    "This method is called when an object is created from a class and it allows the class to initialize the attributes of the class."
   ]
  },
  {
   "cell_type": "markdown",
   "id": "95f9e729-7bf5-4265-b456-184022d632f9",
   "metadata": {},
   "source": [
    "Q6. What is the process for creating a class instance?"
   ]
  },
  {
   "cell_type": "code",
   "execution_count": null,
   "id": "5937b508-3228-4b0c-acb6-87fae23591a4",
   "metadata": {},
   "outputs": [],
   "source": [
    "\n",
    "You create a class instance by calling the class name as though it were a function.\n",
    "any arguments passed into the class name show up as arguments two and beyond in the __init__ constructor method.\n",
    "\n",
    "x = ClassName()\n",
    "y = AnotherClass(arg1, arg2)"
   ]
  },
  {
   "cell_type": "markdown",
   "id": "4e270467-b3a6-4403-bc10-b12ef8049c73",
   "metadata": {},
   "source": [
    "Q7. What is the process for creating a class?"
   ]
  },
  {
   "cell_type": "code",
   "execution_count": null,
   "id": "6761f2eb-c734-4e36-a575-77ec41f57d48",
   "metadata": {},
   "outputs": [],
   "source": [
    "Python is an object oriented programming language.\n",
    "\n",
    "Almost everything in Python is an object, with its properties and methods.\n",
    "\n",
    "A Class is like an object constructor, or a \"blueprint\" for creating objects.\n",
    "\n",
    "\n",
    "class ClassName():\n",
    "#some code here\n",
    "\n",
    "c1=ClassName()#object"
   ]
  },
  {
   "cell_type": "markdown",
   "id": "189d224f-bf9d-43b8-8f32-ca5968399552",
   "metadata": {},
   "source": [
    "Q8. How would you define the superclasses of a class?"
   ]
  },
  {
   "cell_type": "code",
   "execution_count": null,
   "id": "279079de-d159-445c-aa1d-983993e8a7a3",
   "metadata": {},
   "outputs": [],
   "source": [
    "A class that is derived from another class is called a subclass (also a derived class, extended class, or child class).\n",
    "The class from which the subclass is derived is called a superclass (also a base class or a parent class)."
   ]
  },
  {
   "cell_type": "code",
   "execution_count": null,
   "id": "92882d1d-ca07-4284-8318-4fa99da8c689",
   "metadata": {},
   "outputs": [],
   "source": []
  },
  {
   "cell_type": "code",
   "execution_count": null,
   "id": "87b1ac70-77c9-4104-9e72-aa8567d7fdc9",
   "metadata": {},
   "outputs": [],
   "source": []
  },
  {
   "cell_type": "code",
   "execution_count": null,
   "id": "c35fc7e0-8a0e-45e2-a883-4ebc2ab6a577",
   "metadata": {},
   "outputs": [],
   "source": []
  },
  {
   "cell_type": "code",
   "execution_count": null,
   "id": "85bdb50b-12b0-4f34-a1ab-4c85245acb40",
   "metadata": {},
   "outputs": [],
   "source": []
  },
  {
   "cell_type": "code",
   "execution_count": null,
   "id": "fe8a3398-2f0e-440b-a33d-7b008e8a769f",
   "metadata": {},
   "outputs": [],
   "source": []
  },
  {
   "cell_type": "code",
   "execution_count": null,
   "id": "5b9993dc-2011-44ef-a840-3220e127431f",
   "metadata": {},
   "outputs": [],
   "source": []
  },
  {
   "cell_type": "code",
   "execution_count": null,
   "id": "4afc2c79-3a59-440a-be70-e4c7b7170814",
   "metadata": {},
   "outputs": [],
   "source": []
  }
 ],
 "metadata": {
  "kernelspec": {
   "display_name": "Python 3 (ipykernel)",
   "language": "python",
   "name": "python3"
  },
  "language_info": {
   "codemirror_mode": {
    "name": "ipython",
    "version": 3
   },
   "file_extension": ".py",
   "mimetype": "text/x-python",
   "name": "python",
   "nbconvert_exporter": "python",
   "pygments_lexer": "ipython3",
   "version": "3.10.6"
  }
 },
 "nbformat": 4,
 "nbformat_minor": 5
}
