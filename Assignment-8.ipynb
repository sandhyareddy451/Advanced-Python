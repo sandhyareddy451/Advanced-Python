{
 "cells": [
  {
   "cell_type": "markdown",
   "id": "eee60e53",
   "metadata": {},
   "source": [
    "### Q1. What are the two latest user-defined exception constraints in Python 3.X?"
   ]
  },
  {
   "cell_type": "markdown",
   "id": "92a79c01",
   "metadata": {},
   "source": [
    "Python throws errors and exceptions when there is a code gone wrong, which may cause the program to stop abruptly. Python also provides an exception handling method with the help of try-except. Some of the standard exceptions which are most frequent include IndexError, ImportError, IOError, ZeroDivisionError, TypeError, and FileNotFoundError. A user can create his own error using the exception class.\n",
    "\n",
    "Creating User-defined Exception\n",
    "\n",
    "Programmers may name their own exceptions by creating a new exception class. Exceptions need to be derived from the Exception class, either directly or indirectly. Although not mandatory, most of the exceptions are named as names that end in “Error” similar to the naming of the standard exceptions in python. For example:\n"
   ]
  },
  {
   "cell_type": "code",
   "execution_count": 1,
   "id": "d94d980e",
   "metadata": {},
   "outputs": [
    {
     "name": "stdout",
     "output_type": "stream",
     "text": [
      "A New Exception occured:  6\n"
     ]
    }
   ],
   "source": [
    "# A python program to create user-defined exception\n",
    "\n",
    "# class MyError is derived from super class Exception\n",
    "class MyError(Exception):\n",
    "\n",
    "\t# Constructor or Initializer\n",
    "\tdef __init__(self, value):\n",
    "\t\tself.value = value\n",
    "\n",
    "\t# __str__ is to print() the value\n",
    "\tdef __str__(self):\n",
    "\t\treturn(repr(self.value))\n",
    "\n",
    "try:\n",
    "\traise(MyError(3*2))\n",
    "\n",
    "# Value of Exception is stored in error\n",
    "except MyError as error:\n",
    "\tprint('A New Exception occured: ',error.value)"
   ]
  },
  {
   "cell_type": "markdown",
   "id": "52c66ddf",
   "metadata": {},
   "source": [
    "### Q2. How are class-based exceptions that have been raised matched to handlers?"
   ]
  },
  {
   "cell_type": "markdown",
   "id": "3fa88960",
   "metadata": {},
   "source": [
    "Deriving Error from Super Class Exception\n",
    "\n",
    "Superclass Exceptions are created when a module needs to handle several distinct errors. One of the common ways of doing this is to create a base class for exceptions defined by that module. Further, various subclasses are defined to create specific exception classes for different error conditions."
   ]
  },
  {
   "cell_type": "code",
   "execution_count": 2,
   "id": "2a8b0fd9",
   "metadata": {},
   "outputs": [
    {
     "name": "stdout",
     "output_type": "stream",
     "text": [
      "Exception occured:  Not Allowed\n"
     ]
    }
   ],
   "source": [
    "# class Error is derived from super class Exception\n",
    "class Error(Exception):\n",
    "\n",
    "\t# Error is derived class for Exception, but\n",
    "\t# Base class for exceptions in this module\n",
    "\tpass\n",
    "\n",
    "class TransitionError(Error):\n",
    "\n",
    "\t# Raised when an operation attempts a state\n",
    "\t# transition that's not allowed.\n",
    "\tdef __init__(self, prev, nex, msg):\n",
    "\t\tself.prev = prev\n",
    "\t\tself.next = nex\n",
    "\n",
    "\t\t# Error message thrown is saved in msg\n",
    "\t\tself.msg = msg\n",
    "try:\n",
    "\traise(TransitionError(2,3*2,\"Not Allowed\"))\n",
    "\n",
    "# Value of Exception is stored in error\n",
    "except TransitionError as error:\n",
    "\tprint('Exception occured: ',error.msg)"
   ]
  },
  {
   "cell_type": "markdown",
   "id": "aeb02e57",
   "metadata": {},
   "source": [
    "### Q3. Describe two methods for attaching context information to exception artefacts."
   ]
  },
  {
   "cell_type": "markdown",
   "id": "9826f35e",
   "metadata": {},
   "source": [
    "A better strategy is to just append your message to the argument of the original exception if possible as in err. args += (\"message\",) and re-raise the exception message. The traceback might not take you to the line numbers where the exception was caught but it will take you to where the exception occurred for sure."
   ]
  },
  {
   "cell_type": "code",
   "execution_count": null,
   "id": "32d43e4c",
   "metadata": {},
   "outputs": [],
   "source": [
    "try:\n",
    "    try:\n",
    "      raise ValueError\n",
    "    except ValueError as err:\n",
    "       err.extra_info = \"hello\"\n",
    "       raise \n",
    "except ValueError as e:\n",
    "    print(\" error was \"+ str(type(e))+str(e))\n",
    "    if 'extra_info' in dir(e):\n",
    "       print e.extra_info"
   ]
  },
  {
   "cell_type": "markdown",
   "id": "8a3da21c",
   "metadata": {},
   "source": [
    "### Q4. Describe two methods for specifying the text of an exception object's error message."
   ]
  },
  {
   "cell_type": "markdown",
   "id": "5fbc6d1b",
   "metadata": {},
   "source": [
    "An exception is an event that interrupts a running program. Examples of Python exceptions are ZeroDivisionError or IndexError. Catching and printing an exception prevents the program from being interrupted while displaying the error that was caught during execution.\n",
    "\n",
    "Place the code where the exception may occur in a try block. Immediately after the try block, make an except block with except Exception as e to handle any exceptions that occur where e is the exception object, which can be printed. To catch a specific exception, replace Exception with the name of the specific exception."
   ]
  },
  {
   "cell_type": "code",
   "execution_count": 4,
   "id": "775a6546",
   "metadata": {},
   "outputs": [
    {
     "name": "stdout",
     "output_type": "stream",
     "text": [
      "division by zero\n"
     ]
    }
   ],
   "source": [
    "try:\n",
    "    a = 1/0\n",
    "\n",
    "except Exception as e:\n",
    "    print(e)"
   ]
  },
  {
   "cell_type": "code",
   "execution_count": 5,
   "id": "34321872",
   "metadata": {},
   "outputs": [
    {
     "name": "stdout",
     "output_type": "stream",
     "text": [
      "list index out of range\n"
     ]
    }
   ],
   "source": [
    "try:\n",
    "    l = [1, 2, 3]\n",
    "    l[4]\n",
    "\n",
    "except IndexError as e:\n",
    "    print(e)"
   ]
  },
  {
   "cell_type": "markdown",
   "id": "29fe978d",
   "metadata": {},
   "source": [
    "### Q5. Why do you no longer use string-based exceptions?"
   ]
  },
  {
   "cell_type": "markdown",
   "id": "a8a4a7e1",
   "metadata": {},
   "source": [
    "User-defined Python exceptions can be either strings or Python classes. Since classes have many nice properties when used as exceptions, it is desirable to migrate to a situation where classes are used exclusively. Prior to Python 1.5 alpha 4, Python's standard exceptions (IOError, TypeError, etc.) were defined as strings. Changing these to classes posed some particularly nasty backward compatibility problems.\n",
    "\n",
    "In Python versions 1.5 and later, the standard exceptions are Python classes, and a few new standard exceptions have been added. The obsolete AccessError exception has been deleted. Because it is possible (although unlikely) that this change broke existing code, the Python interpreter can be invoked the command line option -X to disable this feature, and use string exceptions like before. This option is a temporary measure - eventually the string-based standard exceptions will be removed from the language altogether. It hasn't been decided whether user-defined string exceptions will be allowed in Python 2.0."
   ]
  },
  {
   "cell_type": "code",
   "execution_count": null,
   "id": "f4a0eebf",
   "metadata": {},
   "outputs": [],
   "source": []
  }
 ],
 "metadata": {
  "kernelspec": {
   "display_name": "Python 3 (ipykernel)",
   "language": "python",
   "name": "python3"
  },
  "language_info": {
   "codemirror_mode": {
    "name": "ipython",
    "version": 3
   },
   "file_extension": ".py",
   "mimetype": "text/x-python",
   "name": "python",
   "nbconvert_exporter": "python",
   "pygments_lexer": "ipython3",
   "version": "3.9.13"
  }
 },
 "nbformat": 4,
 "nbformat_minor": 5
}
