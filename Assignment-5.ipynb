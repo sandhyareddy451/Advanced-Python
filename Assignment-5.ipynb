{
 "cells": [
  {
   "cell_type": "markdown",
   "id": "95230bdd",
   "metadata": {},
   "source": [
    "## Q1. What is the meaning of multiple inheritance?"
   ]
  },
  {
   "cell_type": "markdown",
   "id": "75e32851",
   "metadata": {},
   "source": [
    "### Single Inheritance: \n",
    "\n",
    "If a child class is inheriting the properties of a one superclass(parent class), we call it single inheritance.\n",
    "\n",
    "### Multiple Inheritance:\n",
    "\n",
    "A child class inherits the properties from more than one superclass(parent class), we call it as Multiple Inheritance\n",
    "\n",
    "example of Multiple Inheritance in Python"
   ]
  },
  {
   "cell_type": "code",
   "execution_count": 7,
   "id": "53244c4e",
   "metadata": {},
   "outputs": [],
   "source": [
    "#parent class 1\n",
    "class BaseClass1:\n",
    "    pass\n",
    "\n",
    "#parent class 2\n",
    "class BaseClass2:\n",
    "    pass\n",
    "\n",
    "#multiple inheritence   \n",
    "class DerivedClass(BaseClass1, BaseClass2):\n",
    "    #inheriting (accepting) properties of more than one superclass\n",
    "    pass\n"
   ]
  },
  {
   "cell_type": "markdown",
   "id": "14200eb8",
   "metadata": {},
   "source": [
    "## Q2. What is the concept of delegation?"
   ]
  },
  {
   "cell_type": "markdown",
   "id": "a95ea877",
   "metadata": {},
   "source": [
    "Delegation is a design pattern in which an object, is responsible for performing certain tasks on behalf of another object, called the delegator. This can be done by the delegator forwarding method calls and attribute access to the delegate."
   ]
  },
  {
   "cell_type": "code",
   "execution_count": 8,
   "id": "ff2880d2",
   "metadata": {},
   "outputs": [],
   "source": [
    "class A:\n",
    "  def spam(self, x):\n",
    "    pass\n",
    "  def foo(self):\n",
    "    pass\n",
    "class B:\n",
    "  def __init__(self):\n",
    "    self._a = A()\n",
    "  def spam(self, x):\n",
    "    # Delegate to the internal self._a instance\n",
    "    return self._a.spam(x)\n",
    "  def foo(self):\n",
    "    # Delegate to the internal self._a instance\n",
    "    return self._a.foo()\n",
    "  def bar(self):\n",
    "    pass"
   ]
  },
  {
   "cell_type": "markdown",
   "id": "05985087",
   "metadata": {},
   "source": [
    "## Q3. What is the concept of composition?"
   ]
  },
  {
   "cell_type": "markdown",
   "id": "30a55ea2",
   "metadata": {},
   "source": [
    "Composition is a concept that models a has a relationship. It enables creating complex types by combining objects of other types. This means that a class Composite can contain an object of another class Component . This relationship means that a Composite has a Component ."
   ]
  },
  {
   "cell_type": "markdown",
   "id": "4372921f",
   "metadata": {},
   "source": [
    "## Q4. What are bound methods and how do we use them?"
   ]
  },
  {
   "cell_type": "markdown",
   "id": "2076e589",
   "metadata": {},
   "source": [
    "The Bound methods are the methods defined in a class. They take an instance of their class along with the other arguments as its parameters. Bound methods differ from the other unbound methods in their first parameter."
   ]
  },
  {
   "cell_type": "code",
   "execution_count": 9,
   "id": "8126b693",
   "metadata": {},
   "outputs": [
    {
     "name": "stdout",
     "output_type": "stream",
     "text": [
      "I'm a method bound to Class. Here is my Class's Reference: <__main__.Class object at 0x0000018A56687670> Parameter: 10\n"
     ]
    }
   ],
   "source": [
    "class Class:\n",
    "    def boundMethod(self,param1):\n",
    "        print(\"I'm a method bound to Class. Here is my Class's Reference:\", self,'Parameter:',param1)\n",
    "instance = Class()\n",
    "instance.boundMethod(10) # same as Class.boundMethod(instance,10)"
   ]
  },
  {
   "cell_type": "markdown",
   "id": "1779c629",
   "metadata": {},
   "source": [
    "## Q5. What is the purpose of pseudoprivate attributes?"
   ]
  },
  {
   "cell_type": "markdown",
   "id": "ea3cfd0c",
   "metadata": {},
   "source": [
    "Pseudoprivate attributes are also useful in larger frameworks or tools, both to avoid introducing new method names that might accidentally hide definitions elsewhere in the class tree and to reduce the chance of internal methods being replaced by names defined lower in the tree. If a method is intended for use only within a class that may be mixed into other classes, the double underscore prefix ensures that the method won't interfere with other names in the tree, especially in multiple-inheritance scenarios: class Super:\n",
    "\n",
    "def method(self): ... # A real application method class Tool:\n",
    "\n",
    "def _method(self): ... # Becomes _Tool_method def other(self): self._method() # Use my internal method class Subl(Tool, Super): ...\n",
    "\n",
    "def actions(self): self.method() # Runs Super.method as expected class Sub2(Tool):\n",
    "\n",
    "def _init_(self): self.method = 99 # Doesn't break Tool._method"
   ]
  },
  {
   "cell_type": "code",
   "execution_count": null,
   "id": "43d42323",
   "metadata": {},
   "outputs": [],
   "source": []
  },
  {
   "cell_type": "code",
   "execution_count": null,
   "id": "bd3c42d9",
   "metadata": {},
   "outputs": [],
   "source": []
  },
  {
   "cell_type": "code",
   "execution_count": null,
   "id": "c0f3173c",
   "metadata": {},
   "outputs": [],
   "source": []
  }
 ],
 "metadata": {
  "kernelspec": {
   "display_name": "Python 3 (ipykernel)",
   "language": "python",
   "name": "python3"
  },
  "language_info": {
   "codemirror_mode": {
    "name": "ipython",
    "version": 3
   },
   "file_extension": ".py",
   "mimetype": "text/x-python",
   "name": "python",
   "nbconvert_exporter": "python",
   "pygments_lexer": "ipython3",
   "version": "3.9.13"
  }
 },
 "nbformat": 4,
 "nbformat_minor": 5
}
