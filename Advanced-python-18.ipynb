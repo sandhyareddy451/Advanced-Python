{
 "cells": [
  {
   "cell_type": "markdown",
   "id": "b51c8286",
   "metadata": {},
   "source": [
    "### Q1. Describe the differences between text and binary files in a single paragraph."
   ]
  },
  {
   "cell_type": "markdown",
   "id": "7af996bb",
   "metadata": {},
   "source": [
    "* The differences between Text Files and Binary Files are:\n",
    "\n",
    "1. Text files are special subset of binary files that are used to store human readable characters as a rich text document or plain text document.\n",
    "\n",
    "2. Text files also store data in sequential bytes but bits in text file represents characters.\n",
    "\n",
    "3. Binary files are those typical files that store data in the form of sequence of bytes grouped into eight bits or sometimes sixteen bits.\n",
    "\n",
    "4. These bits represent custom data and such files can store multiple types of data (images, audio, text, etc) under a single file.\n"
   ]
  },
  {
   "cell_type": "markdown",
   "id": "33db3ced",
   "metadata": {},
   "source": [
    "### Q2. What are some scenarios where using text files will be the better option? When would you like to use binary files instead of text files?"
   ]
  },
  {
   "cell_type": "markdown",
   "id": "4667c9c2",
   "metadata": {},
   "source": [
    "Text files are less prone to get corrupted as any undesired change may just show up once the file is opened and then can easily be removed.\n",
    "\n",
    "Whereas Use binary files instead of text files for image data."
   ]
  },
  {
   "cell_type": "markdown",
   "id": "a37fc2d1",
   "metadata": {},
   "source": [
    "### Q3. What are some of the issues with using binary operations to read and write a Python integer directly to disc?."
   ]
  },
  {
   "cell_type": "markdown",
   "id": "6a37eb9b",
   "metadata": {},
   "source": [
    "When we read or write a python integer using binary operations Binary operations deal with raw data One needs to identify how many bytes one would read or write"
   ]
  },
  {
   "cell_type": "markdown",
   "id": "c5c6dcc3",
   "metadata": {},
   "source": [
    "### Q4. Describe a benefit of using the with keyword instead of explicitly opening a file ?"
   ]
  },
  {
   "cell_type": "markdown",
   "id": "f3cba1d2",
   "metadata": {},
   "source": [
    "When a file is opened using the with keyword, if some exceptions occur after opening a file, or at the end of the file it automatically does the closing of the file.\n",
    "\n",
    "There by not leaving an file in open mode and there would no need to explicitly close a file."
   ]
  },
  {
   "cell_type": "markdown",
   "id": "b3648969",
   "metadata": {},
   "source": [
    "### Q5. Does Python have the trailing newline while reading a line of text? Does Python append a newline when you write a line of text?\n"
   ]
  },
  {
   "cell_type": "markdown",
   "id": "09c1c0a4",
   "metadata": {},
   "source": [
    "Yes, Python have the trailing newline while reading a line of text. When we write a newline has to be provided in python excpicitly."
   ]
  },
  {
   "cell_type": "markdown",
   "id": "f59f0602",
   "metadata": {},
   "source": [
    "### Q6. What file operations enable for random-access operation?"
   ]
  },
  {
   "cell_type": "markdown",
   "id": "e5a54800",
   "metadata": {},
   "source": [
    "The file operations enable for random-access operation are seek() and tell()"
   ]
  },
  {
   "cell_type": "markdown",
   "id": "61d36234",
   "metadata": {},
   "source": [
    "### Q7. When do you think you'll use the struct package the most?"
   ]
  },
  {
   "cell_type": "markdown",
   "id": "518f28c4",
   "metadata": {},
   "source": [
    "The struct package is mostly used while converting a common python types into C language types.\n"
   ]
  },
  {
   "cell_type": "markdown",
   "id": "4e1b6c75",
   "metadata": {},
   "source": [
    "### Q8. When is pickling the best option?"
   ]
  },
  {
   "cell_type": "markdown",
   "id": "8d4eedb6",
   "metadata": {},
   "source": [
    "Pickling is best option for creating a new binary file using python."
   ]
  },
  {
   "cell_type": "markdown",
   "id": "d1d5ddf1",
   "metadata": {},
   "source": [
    "### Q9. When will it be best to use the shelve package?"
   ]
  },
  {
   "cell_type": "markdown",
   "id": "170b937b",
   "metadata": {},
   "source": [
    "Shelve package is used to pickle data but treats the entire file as dictionary."
   ]
  },
  {
   "cell_type": "markdown",
   "id": "b2f2cb59",
   "metadata": {},
   "source": [
    "### Q10. What is a special restriction when using the shelve package, as opposed to using other data dictionaries?\n"
   ]
  },
  {
   "cell_type": "markdown",
   "id": "74ba22c0",
   "metadata": {},
   "source": [
    "Only string data type can be used as key in this special dictionary object, whereas any picklable Python object can be used as value."
   ]
  },
  {
   "cell_type": "code",
   "execution_count": null,
   "id": "b1ca1158",
   "metadata": {},
   "outputs": [],
   "source": []
  }
 ],
 "metadata": {
  "kernelspec": {
   "display_name": "Python 3 (ipykernel)",
   "language": "python",
   "name": "python3"
  },
  "language_info": {
   "codemirror_mode": {
    "name": "ipython",
    "version": 3
   },
   "file_extension": ".py",
   "mimetype": "text/x-python",
   "name": "python",
   "nbconvert_exporter": "python",
   "pygments_lexer": "ipython3",
   "version": "3.9.13"
  }
 },
 "nbformat": 4,
 "nbformat_minor": 5
}
