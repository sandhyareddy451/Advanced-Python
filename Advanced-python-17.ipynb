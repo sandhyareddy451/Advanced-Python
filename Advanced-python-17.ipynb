{
 "cells": [
  {
   "cell_type": "markdown",
   "id": "3f5a13a1",
   "metadata": {},
   "source": [
    "### Q1. Explain the difference between greedy and non-greedy syntax with visual terms in as few words as possible. What is the bare minimum effort required to transform a greedy pattern into a non-greedy one? What characters or characters can you introduce or change?\n"
   ]
  },
  {
   "cell_type": "markdown",
   "id": "536e5aeb",
   "metadata": {},
   "source": [
    "Greedy matching means the regex engine tries to match as much as possible while still obeying the rules on the overall pattern. On the other hand, non-greedy matching (also called lazy matching) entails matching as little as possible¹. \n",
    "\n",
    "In visual terms, greedy matching is like a vacuum cleaner that sucks up everything in its path until it can't suck anymore. Non-greedy matching is like a feather duster that only picks up what it needs to². \n",
    "\n",
    "To transform a greedy pattern into a non-greedy one, you can add a question mark after the quantifier. For example, if you have a greedy pattern like `.*`, you can transform it into a non-greedy pattern like `.*?`². \n",
    "\n",
    "You can introduce any character or characters in between the quantifier and the question mark."
   ]
  },
  {
   "cell_type": "code",
   "execution_count": 2,
   "id": "8be81423",
   "metadata": {},
   "outputs": [
    {
     "name": "stdout",
     "output_type": "stream",
     "text": [
      "['vvvvvv', '']\n",
      "['', 'v', '', 'v', '', 'v', '', 'v', '', 'v', '', 'v', '']\n"
     ]
    }
   ],
   "source": [
    "import re\n",
    "print(re.findall(\"v*\", \"vvvvvv\")) # Greedy Match Synatx\n",
    "print(re.findall(\"v*?\", \"vvvvvv\")) # Non Greddy Syntax"
   ]
  },
  {
   "cell_type": "code",
   "execution_count": 3,
   "id": "97cb4a81",
   "metadata": {},
   "outputs": [],
   "source": [
    "### Q2. When exactly does greedy versus non-greedy make a difference?  What if you&#39;re looking for a non-greedy match but the only one available is greedy?"
   ]
  },
  {
   "cell_type": "markdown",
   "id": "32a63885",
   "metadata": {},
   "source": [
    "### Q2. When exactly does greedy versus non-greedy make a difference?  What if you&#39;re looking for a non-greedy match but the only one available is greedy?"
   ]
  },
  {
   "cell_type": "markdown",
   "id": "f185c948",
   "metadata": {},
   "source": [
    "In general, non-greedy matching can be faster than greedy matching because non-greedy matching stops as soon as it finds the first match, while greedy matching continues searching for additional matches until it reaches the end of the string¹. \n",
    "\n",
    "If you're looking for a non-greedy match but the only one available is greedy, you can use a negative lookahead to exclude the unwanted matches. For example, if you have a string like `abc123def456`, and you want to match only the first set of digits, you can use a non-greedy pattern like `\\\\d+?` with a negative lookahead like `(?!\\\\d)`¹."
   ]
  },
  {
   "cell_type": "markdown",
   "id": "7019ebe5",
   "metadata": {},
   "source": [
    "### Q3. In a simple match of a string, which looks only for one match and does not do any replacement, is the use of a nontagged group likely to make any practical difference?"
   ]
  },
  {
   "cell_type": "code",
   "execution_count": 5,
   "id": "249c688f",
   "metadata": {},
   "outputs": [
    {
     "name": "stdout",
     "output_type": "stream",
     "text": [
      "Phone number found -> 234\n",
      "Phone number found -> 234\n"
     ]
    }
   ],
   "source": [
    "#In this Case The Non Tagged Group will not make any diffrence in this case.\n",
    "\n",
    "import re\n",
    "phoneNumRegex = re.compile(r'\\d\\d\\d')\n",
    "num = phoneNumRegex.search('My number is 234-567-8901.')\n",
    "print(f'Phone number found -> {num.group()}') # Non Tagged group\n",
    "print(f'Phone number found -> {num.group(0)}') # Tagged Group"
   ]
  },
  {
   "cell_type": "markdown",
   "id": "beb8026e",
   "metadata": {},
   "source": [
    "### Q4. Describe a scenario in which using a nontagged category would have a significant impact on the program's outcomes ?"
   ]
  },
  {
   "cell_type": "code",
   "execution_count": 8,
   "id": "15377476",
   "metadata": {},
   "outputs": [
    {
     "data": {
      "text/plain": [
       "('135', '456')"
      ]
     },
     "execution_count": 8,
     "metadata": {},
     "output_type": "execute_result"
    }
   ],
   "source": [
    "#Here in the below Code Snippet . decimal is not tagged or captured. It will useful in scenarios where the separator of value in a string is of no use and\n",
    "#we need to capture only the values.\n",
    "\n",
    "import re\n",
    "text='135.456'\n",
    "pattern=r'(\\d+)(?:.)(\\d+)'\n",
    "regobj=re.compile(pattern)\n",
    "matobj=regobj.search(text)\n",
    "matobj.groups()\n"
   ]
  },
  {
   "cell_type": "markdown",
   "id": "a5f6d5c9",
   "metadata": {},
   "source": [
    "### Q5. Unlike a normal regex pattern, a look-ahead condition does not consume the characters it examines. Describe a situation in which this could make a difference in the results of your programme ?"
   ]
  },
  {
   "cell_type": "markdown",
   "id": "5dd9cb45",
   "metadata": {},
   "source": [
    "While counting the number of multiple lines or mutiple sentence in a string the positive look ahead makes a difference, without which we wont get the correct count of lines or sentences in a string.\n"
   ]
  },
  {
   "cell_type": "markdown",
   "id": "e284f5fd",
   "metadata": {},
   "source": [
    "### Q6. In standard expressions, what is the difference between positive look-ahead and negative look-ahead ?"
   ]
  },
  {
   "cell_type": "markdown",
   "id": "cd0b36c4",
   "metadata": {},
   "source": [
    "Positive Lookahead allows to add a condition for what follows. Negative Lookahead is similar, but it looks behind. That is, it allows to match a pattern only if there’s something before it."
   ]
  },
  {
   "cell_type": "markdown",
   "id": "5732f039",
   "metadata": {},
   "source": [
    "### Q7. What is the benefit of referring to groups by name rather than by number in a standard expression?"
   ]
  },
  {
   "cell_type": "markdown",
   "id": "9b3ebcf2",
   "metadata": {},
   "source": [
    "Referring to groups by name rather than by number in a standard expression helps to keep the code clear and easy to understand."
   ]
  },
  {
   "cell_type": "markdown",
   "id": "68f63326",
   "metadata": {},
   "source": [
    "### Q8. Can you identify repeated items within a target string using named groups, as in \"The cow jumped over the moon\"?"
   ]
  },
  {
   "cell_type": "code",
   "execution_count": 10,
   "id": "c0cddbf2",
   "metadata": {},
   "outputs": [
    {
     "data": {
      "text/plain": [
       "['The', 'the']"
      ]
     },
     "execution_count": 10,
     "metadata": {},
     "output_type": "execute_result"
    }
   ],
   "source": [
    "\n",
    "import re\n",
    "text = \"The cow jumped over the moon\"\n",
    "regobj=re.compile(r'(?P<w1>The)',re.I)\n",
    "regobj.findall(text)"
   ]
  },
  {
   "cell_type": "markdown",
   "id": "e539ae82",
   "metadata": {},
   "source": [
    "### Q9. When parsing a string, what is at least one thing that the Scanner interface does for you that the re.findall feature does not ?"
   ]
  },
  {
   "cell_type": "markdown",
   "id": "589bf51b",
   "metadata": {},
   "source": [
    "Ans: re.findall() module is used to search for all occurrences that match a given pattern. In contrast, re.search() will only return the first occurrence that matches the specified pattern. re.findall() will iterate over all the lines of the file and will return all non-overlapping matches of pattern in a single step."
   ]
  },
  {
   "cell_type": "markdown",
   "id": "e5a946fb",
   "metadata": {},
   "source": [
    "### Q10. Does a scanner object have to be named scanner?\n"
   ]
  },
  {
   "cell_type": "markdown",
   "id": "cd9ca2e1",
   "metadata": {},
   "source": [
    "Yes, It may have any name."
   ]
  },
  {
   "cell_type": "code",
   "execution_count": null,
   "id": "cbeb9af9",
   "metadata": {},
   "outputs": [],
   "source": []
  }
 ],
 "metadata": {
  "kernelspec": {
   "display_name": "Python 3 (ipykernel)",
   "language": "python",
   "name": "python3"
  },
  "language_info": {
   "codemirror_mode": {
    "name": "ipython",
    "version": 3
   },
   "file_extension": ".py",
   "mimetype": "text/x-python",
   "name": "python",
   "nbconvert_exporter": "python",
   "pygments_lexer": "ipython3",
   "version": "3.9.13"
  }
 },
 "nbformat": 4,
 "nbformat_minor": 5
}
