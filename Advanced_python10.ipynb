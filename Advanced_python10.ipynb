{
 "cells": [
  {
   "cell_type": "markdown",
   "id": "bc85bf76",
   "metadata": {},
   "source": [
    "### Q1. What is the difference between __getattr__ and __getattribute__?"
   ]
  },
  {
   "cell_type": "markdown",
   "id": "55f45684",
   "metadata": {},
   "source": [
    "\"__getattr__\" and \"__getattribute__\" are both special methods in Python that are used to define how an object should behave when an attribute is accessed. The difference between them is that \"__getattr__\" is only invoked if the attribute wasn't found the usual ways. It's good for implementing a fallback for missing attributes, and is probably the one of two you want. On the other hand, \"__getattribute__\" is called all the times. \"__getattribute__\" is called whenever an attribute access occurs."
   ]
  },
  {
   "cell_type": "markdown",
   "id": "dcb91f23",
   "metadata": {},
   "source": [
    "### Q2. What is the difference between properties and descriptors?"
   ]
  },
  {
   "cell_type": "markdown",
   "id": "c840f6d8",
   "metadata": {},
   "source": [
    "#### descriptors:\n",
    "\n",
    "descriptors are a low-level mechanism that lets you hook into an object's attributes being accessed.\n",
    "\n",
    "#### Properties:\n",
    "\n",
    "Properties are a high-level application of this; that is, properties are implemented using descriptors. Or, better yet, properties are descriptors that are already provided for you in the standard library."
   ]
  },
  {
   "cell_type": "markdown",
   "id": "8d9b3f34",
   "metadata": {},
   "source": [
    "### Q3. What are the key differences in functionality between __getattr__ and __getattribute__, as well as properties and descriptors? "
   ]
  },
  {
   "cell_type": "markdown",
   "id": "cae39b79",
   "metadata": {},
   "source": [
    "`__getattr__` and `__getattribute__` are both special methods in Python that are used to define how an object should behave when an attribute is accessed. The difference between them is that `__getattr__` is only invoked if the attribute wasn't found the usual ways. It's good for implementing a fallback for missing attributes, and is probably the one of two you want. On the other hand, `__getattribute__` is called all the times. `__getattribute__` is called whenever an attribute access occurs.\n",
    "\n",
    "`__Descriptors__` are a low-level mechanism that lets you hook into an object's attributes being accessed. `__Properties__` are a high-level application of this; that is, properties are implemented using descriptors. Or, better yet, properties are descriptors that are already provided for you in the standard library."
   ]
  },
  {
   "cell_type": "code",
   "execution_count": null,
   "id": "b02e38c3",
   "metadata": {},
   "outputs": [],
   "source": []
  },
  {
   "cell_type": "code",
   "execution_count": null,
   "id": "728b9a7d",
   "metadata": {},
   "outputs": [],
   "source": []
  },
  {
   "cell_type": "code",
   "execution_count": null,
   "id": "63993df0",
   "metadata": {},
   "outputs": [],
   "source": []
  },
  {
   "cell_type": "code",
   "execution_count": null,
   "id": "b9469c80",
   "metadata": {},
   "outputs": [],
   "source": []
  },
  {
   "cell_type": "code",
   "execution_count": null,
   "id": "899bbbd1",
   "metadata": {},
   "outputs": [],
   "source": []
  }
 ],
 "metadata": {
  "kernelspec": {
   "display_name": "Python 3 (ipykernel)",
   "language": "python",
   "name": "python3"
  },
  "language_info": {
   "codemirror_mode": {
    "name": "ipython",
    "version": 3
   },
   "file_extension": ".py",
   "mimetype": "text/x-python",
   "name": "python",
   "nbconvert_exporter": "python",
   "pygments_lexer": "ipython3",
   "version": "3.9.13"
  }
 },
 "nbformat": 4,
 "nbformat_minor": 5
}
