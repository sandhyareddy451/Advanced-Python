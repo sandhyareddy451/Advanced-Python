{
 "cells": [
  {
   "cell_type": "markdown",
   "id": "81b6f799",
   "metadata": {},
   "source": [
    "## Q1. Which two operator overloading methods can you use in your classes to support iteration?"
   ]
  },
  {
   "cell_type": "markdown",
   "id": "9189e04b",
   "metadata": {},
   "source": [
    "The two operator overloading methods you can use to support iteration in your classes are\n",
    "\n",
    "- __iter__()\n",
    "\n",
    "and \n",
    "- __next__()"
   ]
  },
  {
   "cell_type": "markdown",
   "id": "5b0128c2",
   "metadata": {},
   "source": [
    "  \n",
    "\n",
    "### iter(): \n",
    "\n",
    "The __iter__ returns the iterator object and is implicitly called at the start of loops.\n",
    "\n",
    "### next():\n",
    "\n",
    "The __next__ method returns the next value and is implicitly called at each loop increment. __next__ raises a StopIteration exception when there are no more value to return\n"
   ]
  },
  {
   "cell_type": "code",
   "execution_count": 1,
   "id": "c9f48d06",
   "metadata": {},
   "outputs": [
    {
     "name": "stdout",
     "output_type": "stream",
     "text": [
      "5\n",
      "6\n",
      "7\n",
      "8\n",
      "9\n",
      "10\n",
      "11\n",
      "12\n",
      "13\n",
      "14\n",
      "15\n"
     ]
    }
   ],
   "source": [
    "#Examples of iter and next \n",
    "\n",
    "class Counter:\n",
    "    def __init__(self, low, high):\n",
    "        self.current = low\n",
    "        self.high = high\n",
    " \n",
    "    def __iter__(self): #__iter__()\n",
    "        return self\n",
    " \n",
    "    def __next__(self):#__next__()\n",
    "        if self.current > self.high:\n",
    "            raise StopIteration\n",
    "        else:\n",
    "            self.current += 1\n",
    "            return self.current - 1\n",
    " \n",
    " \n",
    "for num in Counter(5, 15):\n",
    "    print(num)"
   ]
  },
  {
   "cell_type": "markdown",
   "id": "a04d328f",
   "metadata": {},
   "source": [
    "## Q3. In a class, how do you intercept slice operations?\n",
    "\n",
    "- To intercept slice operations in a class, you need to override the '__getitem__' and '__setitem__' methods. These methods are called when you try to access or modify an item using the slice notation.\n",
    "\n",
    "\n",
    "- The '__getitem__' method is called when you try to access an item using the slice notation. It takes two arguments: 'self' and 'index'. The 'index' argument can be a single integer or a slice object.\n",
    "\n",
    "\n",
    "- The '__setitem__' method is called when you try to modify an item using the slice notation. It takes three arguments: 'self', 'index', and 'value'. The 'index' argument can be a single integer or a slice object, and the 'value' argument is the new value you want to set.\n",
    "\n",
    "\n",
    "- When you override these methods, you can add custom logic to handle slice operations.\n",
    "For example, you can intercept the slice operation and perform additional actions, such as logging or validation. Here's an example of a class that intercepts slice operations "
   ]
  },
  {
   "cell_type": "code",
   "execution_count": 4,
   "id": "8c2e8451",
   "metadata": {},
   "outputs": [],
   "source": [
    "class InterceptedSliceList:\n",
    "    def __init__(self, data): \n",
    "        self.data = data \n",
    "    \n",
    "    def __getitem__(self, index): \n",
    "        if isinstance(index, slice):\n",
    "            print(f\"Intercepted slice operation: {index}\") \n",
    "        return self.data[index] \n",
    "    \n",
    "    def __setitem__(self, index, value): \n",
    "        if isinstance(index, slice):\n",
    "            print(f\"Intercepted slice operation: {index}\") \n",
    "            self.data[index] = value # Example usage my_list = InterceptedSliceList([1, 2, 3, 4, 5]) # Accessing a single item print(my_list[1]) # Output: 2 # Accessing a slice print(my_list[1:4]) # Output: Intercepted slice operation: slice(1, 4, None) # [2, 3, 4] # Modifying a single item my_list[1] = 6 print(my_list.data) # Output: [1, 6, 3, 4, 5] # Modifying a slice my_list[1:4] = [7, 8, 9] # Output: Intercepted slice operation: slice(1, 4, None) print(my_list.data) # Output: [1, 7, 8, 9, 5] ``` In this example, the `InterceptedSliceList` class wraps a list and intercepts slice operations using the `__getitem__` and `__setitem__` methods. When a slice operation is performed, it prints a message and then calls the corresponding method on the wrapped list."
   ]
  },
  {
   "cell_type": "markdown",
   "id": "f842f1c6",
   "metadata": {},
   "source": [
    "## Q4. In a class, how do you capture in-place addition?"
   ]
  },
  {
   "cell_type": "markdown",
   "id": "230f0d2f",
   "metadata": {},
   "source": [
    "Python provides the operator x += y to add two objects in-place by calculating the sum x + y and assigning the result to the first operands variable name x . You can set up the in-place addition behavior for your own class by overriding the magic “dunder” method __iadd__(self, other) in your class definition.\n",
    "\n"
   ]
  },
  {
   "cell_type": "code",
   "execution_count": 1,
   "id": "2fce6fc9",
   "metadata": {},
   "outputs": [
    {
     "name": "stdout",
     "output_type": "stream",
     "text": [
      "The value after adding and assigning : 5\n",
      "The string after concatenation is : geeksforgeeks\n"
     ]
    }
   ],
   "source": [
    "\n",
    "# Python code to demonstrate the working of \n",
    "# iadd() and iconcat()\n",
    "  \n",
    "# importing operator to handle operator operations\n",
    "import operator\n",
    "  \n",
    "# using iadd() to add and assign value\n",
    "x = operator.iadd(2, 3);\n",
    "  \n",
    "# printing the modified value\n",
    "print (\"The value after adding and assigning : \", end=\"\")\n",
    "print (x)\n",
    "  \n",
    "# initializing values\n",
    "y = \"geeks\"\n",
    "  \n",
    "z = \"forgeeks\"\n",
    "  \n",
    "# using iconcat() to concat the sequences\n",
    "y = operator.iconcat(y, z)\n",
    "  \n",
    "# using iconcat() to concat sequences \n",
    "print (\"The string after concatenation is : \", end=\"\")\n",
    "print (y)"
   ]
  },
  {
   "cell_type": "markdown",
   "id": "65be8d29",
   "metadata": {},
   "source": [
    "## Q5. When is it appropriate to use operator overloading?"
   ]
  },
  {
   "cell_type": "markdown",
   "id": "c9d07b4c",
   "metadata": {},
   "source": [
    "### Operator overloading:\n",
    "The operator overloading in Python means provide extended meaning beyond their predefined operational meaning. Such as, we use the \"+\" operator for adding two integers as well as joining two strings or merging two lists. We can achieve this as the \"+\" operator is overloaded by the \"int\" class and \"str\" class.\n",
    "\n",
    "### Uses of Operating Overloading:\n",
    "\n",
    "It allows for reusability. Instead of developing numerous methods with minor differences, we can simply write one method and overload it. It also increases code clarity and reduces complexity. Operator overloading also makes the code more concise and easier to understand."
   ]
  },
  {
   "cell_type": "code",
   "execution_count": null,
   "id": "74c49e8e",
   "metadata": {},
   "outputs": [],
   "source": []
  }
 ],
 "metadata": {
  "kernelspec": {
   "display_name": "Python 3 (ipykernel)",
   "language": "python",
   "name": "python3"
  },
  "language_info": {
   "codemirror_mode": {
    "name": "ipython",
    "version": 3
   },
   "file_extension": ".py",
   "mimetype": "text/x-python",
   "name": "python",
   "nbconvert_exporter": "python",
   "pygments_lexer": "ipython3",
   "version": "3.9.13"
  }
 },
 "nbformat": 4,
 "nbformat_minor": 5
}
