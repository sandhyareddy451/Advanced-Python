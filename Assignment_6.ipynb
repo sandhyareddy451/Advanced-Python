{
 "cells": [
  {
   "cell_type": "markdown",
   "id": "e182b8cd",
   "metadata": {},
   "source": [
    "## Q1. Describe three applications for exception processing?"
   ]
  },
  {
   "cell_type": "markdown",
   "id": "cf5f7d60",
   "metadata": {},
   "source": [
    "Exception processing is an important part of programming. It helps to handle errors and prevent applications from crashing. In Python, exceptions are raised when an error occurs. Exception handling is used to handle these exceptions and prevent the program from crashing. \n",
    "\n",
    "As for your question, I'm not sure what you mean by \"advanced assignments\". However, here are three applications of exception processing in Python:\n",
    "\n",
    "1. **Debugging**: Exception handling can be used to debug code by catching errors and printing out useful information about the error.\n",
    "2. **File handling**: Exception handling can be used when working with files to catch errors such as file not found errors or permission errors.\n",
    "3. **Web scraping**: Exception handling can be used when web scraping to catch errors such as connection errors or parsing errors."
   ]
  },
  {
   "cell_type": "markdown",
   "id": "bfa7ceeb",
   "metadata": {},
   "source": [
    "## Q2. What happens if you don&#39;t do something extra to treat an exception?"
   ]
  },
  {
   "cell_type": "markdown",
   "id": "254bfbf2",
   "metadata": {},
   "source": [
    "If you don’t handle an exception in Python, the program will crash. When an exception is raised and not handled, the Python interpreter stops the current process and passes it to the calling process until it is handled1. If not handled, the program will crash."
   ]
  },
  {
   "cell_type": "markdown",
   "id": "079ee876",
   "metadata": {},
   "source": [
    "## Q3. What are your options for recovering from an exception in your script?"
   ]
  },
  {
   "cell_type": "markdown",
   "id": "b5373db0",
   "metadata": {},
   "source": [
    "There are several options for recovering from an exception in your Python script. Here are some of them:\n",
    "\n",
    "1. **try/except**: This is used to catch the error and recover from exceptions hoist by programmers or Python itself.\n",
    "2. **try/finally**: Whether exception occurs or not, it automatically performs the clean-up action.\n",
    "3. **assert**: Triggers an exception conditionally in the code.\n",
    "4. **raise**: Manually triggers an exception in the code.\n",
    "5. **with/as**: Implement context managers in older versions of Python such as - Python 2.6 & Python 3.0."
   ]
  },
  {
   "cell_type": "markdown",
   "id": "befb5d88",
   "metadata": {},
   "source": [
    "## Q4. Describe two methods for triggering exceptions in your script?"
   ]
  },
  {
   "cell_type": "markdown",
   "id": "09756c0e",
   "metadata": {},
   "source": [
    "Here are two methods for triggering exceptions in your Python script:\n",
    "\n",
    "1. **Raise**: You can use the \"raise\" keyword to throw a Python exception manually.\n",
    "2. **Try/Except**: You can use the try...except block to handle exceptions in Python."
   ]
  },
  {
   "cell_type": "markdown",
   "id": "8785b271",
   "metadata": {},
   "source": [
    "## Q5. Identify two methods for specifying actions to be executed at termination time, regardless of whether or not an exception exists?"
   ]
  },
  {
   "cell_type": "markdown",
   "id": "4a6b5cb2",
   "metadata": {},
   "source": [
    "Here are two methods for specifying actions to be executed at termination time, regardless of whether or not an exception exists:\n",
    "\n",
    "1. **atexit**: This module provides a simple interface to register functions to be called when a program is closing down.\n",
    "2. **try/finally**: Whether exception occurs or not, it automatically performs the clean-up action."
   ]
  },
  {
   "cell_type": "code",
   "execution_count": null,
   "id": "1aa03d82",
   "metadata": {},
   "outputs": [],
   "source": []
  },
  {
   "cell_type": "code",
   "execution_count": null,
   "id": "d9d54b6e",
   "metadata": {},
   "outputs": [],
   "source": []
  },
  {
   "cell_type": "code",
   "execution_count": null,
   "id": "ad6114bb",
   "metadata": {},
   "outputs": [],
   "source": []
  },
  {
   "cell_type": "code",
   "execution_count": null,
   "id": "5ceead4b",
   "metadata": {},
   "outputs": [],
   "source": []
  },
  {
   "cell_type": "code",
   "execution_count": null,
   "id": "c6456473",
   "metadata": {},
   "outputs": [],
   "source": []
  },
  {
   "cell_type": "code",
   "execution_count": null,
   "id": "b63dbd5a",
   "metadata": {},
   "outputs": [],
   "source": []
  },
  {
   "cell_type": "code",
   "execution_count": null,
   "id": "cf046425",
   "metadata": {},
   "outputs": [],
   "source": []
  },
  {
   "cell_type": "code",
   "execution_count": null,
   "id": "b8bd7e2f",
   "metadata": {},
   "outputs": [],
   "source": []
  },
  {
   "cell_type": "code",
   "execution_count": null,
   "id": "8a5dfeee",
   "metadata": {},
   "outputs": [],
   "source": []
  }
 ],
 "metadata": {
  "kernelspec": {
   "display_name": "Python 3 (ipykernel)",
   "language": "python",
   "name": "python3"
  },
  "language_info": {
   "codemirror_mode": {
    "name": "ipython",
    "version": 3
   },
   "file_extension": ".py",
   "mimetype": "text/x-python",
   "name": "python",
   "nbconvert_exporter": "python",
   "pygments_lexer": "ipython3",
   "version": "3.9.13"
  }
 },
 "nbformat": 4,
 "nbformat_minor": 5
}
